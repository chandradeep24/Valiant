{
 "cells": [
  {
   "cell_type": "code",
   "execution_count": 9,
   "metadata": {},
   "outputs": [
    {
     "name": "stdout",
     "output_type": "stream",
     "text": [
      "20000\n",
      "102\n",
      "6\n",
      "771\n"
     ]
    }
   ],
   "source": [
    "import numpy as np\n",
    "import cupy as cp\n",
    "import cupyx.scipy.sparse as sp\n",
    "from numpy.random import default_rng\n",
    "import pandas as pd\n",
    "import pickle\n",
    "import time\n",
    "import sys\n",
    "import os\n",
    "import math\n",
    "np.set_printoptions(threshold=sys.maxsize)\n",
    "\n",
    "global maxInterference\n",
    "maxInterference = 0.0\n",
    "\n",
    "global trackTime\n",
    "trackTime = 0\n",
    "\n",
    "\n",
    "n = 20000\n",
    "p = 512 / 99999\n",
    "d = (int) (p * (n-1))\n",
    "k = (int) (d * 32/512)\n",
    "r_approx = (int) ((n / 100000) * (pow(2, 16) * k / d))\n",
    "M = cp.empty(shape=(0, n), dtype='bool')\n",
    "rng = default_rng(seed=42)\n",
    "\n",
    "print(n)\n",
    "print(d)\n",
    "print(k)\n",
    "print(r_approx)\n",
    "\n",
    "def create_sparse_gnp_graph() -> sp.csr_matrix:\n",
    "        \n",
    "    num_edges = rng.binomial(n * (n - 1) // 2, p)\n",
    "    sources = cp.array(rng.integers(0, n, (int)(num_edges*2)))\n",
    "    targets = cp.array(rng.integers(0, n, (int)(num_edges*2)))\n",
    "    mask = sources != targets\n",
    "    data = cp.ones_like(sources[mask])\n",
    "    adj_matrix = sp.coo_matrix((data, (targets[mask], sources[mask])), (n, n), dtype='bool')\n",
    "    adj_matrix = adj_matrix.tocsr()\n",
    "\n",
    "    del sources\n",
    "    del targets\n",
    "    del data\n",
    "\n",
    "    return adj_matrix\n",
    "\n",
    "g = create_sparse_gnp_graph().toarray()"
   ]
  },
  {
   "cell_type": "code",
   "execution_count": 10,
   "metadata": {},
   "outputs": [],
   "source": [
    "def random_memory():\n",
    "    temp = np.zeros(n, dtype='bool')\n",
    "    temp[:r_approx] = True\n",
    "    rng.shuffle(temp)\n",
    "    return cp.array(temp)\n",
    "\n",
    "def SJOIN_interference_check(A, i):\n",
    "    global maxInterference\n",
    "    if i <= 0:\n",
    "        return 0\n",
    "    this_max = cp.max(cp.sum(cp.logical_and(M[:i], A), axis=1)) / cp.sum(A)\n",
    "    if this_max > maxInterference:\n",
    "        maxInterference = this_max\n",
    "    return this_max\n",
    "\n",
    "def SJOIN_one_step(A):\n",
    "    fired_neighbors = cp.sum(g[A], axis=0)\n",
    "    counts = cp.zeros((int)(cp.max(fired_neighbors))+1, dtype=int)\n",
    "    for i in range(n):\n",
    "        for j in range((int)(fired_neighbors[i])+1):\n",
    "            counts[j] = counts[j]+1\n",
    "\n",
    "    idx = len(counts)-1\n",
    "    for i in range(len(counts)):\n",
    "        if counts[i] < r_approx:\n",
    "            if i == 0:\n",
    "                idx = 0\n",
    "            else:\n",
    "                if counts[i-1] - r_approx < r_approx - counts[i]:\n",
    "                    idx = i-1\n",
    "                else:\n",
    "                    idx = i\n",
    "            break\n",
    "    \n",
    "    B = cp.zeros(n, dtype='bool')\n",
    "    for i in range(n):\n",
    "        if fired_neighbors[i] >= idx:\n",
    "            B[i] = True\n",
    "\n",
    "    print(\"{} : {}\".format(idx, cp.sum(B)))\n",
    "\n",
    "    return B\n",
    "\n",
    "def SJOIN_long_sequence(num):\n",
    "    global maxInterference\n",
    "    global M\n",
    "\n",
    "    df = None\n",
    "\n",
    "    if os.path.isfile('output.xlsx'):\n",
    "        print(\"File found\")\n",
    "        df = pd.read_excel('output.xlsx')\n",
    "        maxInterference = df.loc[len(df.index)-1][0]\n",
    "    else:\n",
    "        print(\"Create new file\")\n",
    "        columns = [\"Max Interference\", \"Interference\", \"Memory\"]\n",
    "        df = pd.DataFrame(columns=columns)\n",
    "        maxInterference = 0\n",
    "\n",
    "    if len(M) == 0:\n",
    "        M = cp.append(M, [random_memory()], axis=0)\n",
    "        new_row = [0, 0, r_approx]\n",
    "        df.loc[len(df.index)] = new_row\n",
    "\n",
    "\n",
    "    memory_count = 1\n",
    "    while True:\n",
    "        print(\"Memory {}\".format(memory_count))\n",
    "\n",
    "        A = M[-1]\n",
    "        B = SJOIN_one_step(A)\n",
    "        \n",
    "        this_max = SJOIN_interference_check(B, len(M)-1)\n",
    "\n",
    "        M = cp.append(M, [B], axis=0)\n",
    "\n",
    "        new_row = [(float)(maxInterference), (float)(this_max), (int)(cp.sum(B))]\n",
    "        df.loc[len(df.index)] = new_row\n",
    "\n",
    "        if this_max >= 0.5 or memory_count >= num:\n",
    "            df.to_excel('output.xlsx', index=False)\n",
    "            return\n",
    "        \n",
    "        memory_count = memory_count + 1"
   ]
  },
  {
   "cell_type": "code",
   "execution_count": 11,
   "metadata": {},
   "outputs": [],
   "source": [
    "with open('M.pkl', 'wb') as f:\n",
    "    pickle.dump(M, f)\n",
    "np.save(\"rng.npy\", rng.bit_generator.state)"
   ]
  },
  {
   "cell_type": "code",
   "execution_count": 13,
   "metadata": {},
   "outputs": [
    {
     "name": "stdout",
     "output_type": "stream",
     "text": [
      "File found\n",
      "Memory 1\n"
     ]
    },
    {
     "name": "stderr",
     "output_type": "stream",
     "text": [
      "/tmp/ipykernel_159236/2603431598.py:53: FutureWarning: Series.__getitem__ treating keys as positions is deprecated. In a future version, integer keys will always be treated as labels (consistent with DataFrame behavior). To access a value by position, use `ser.iloc[pos]`\n",
      "  maxInterference = df.loc[len(df.index)-1][0]\n"
     ]
    },
    {
     "name": "stdout",
     "output_type": "stream",
     "text": [
      "9 : 568\n",
      "Memory 2\n",
      "7 : 565\n",
      "Memory 3\n",
      "7 : 541\n",
      "Memory 4\n",
      "7 : 458\n",
      "Memory 5\n",
      "6 : 629\n"
     ]
    }
   ],
   "source": [
    "with open('M.pkl', 'rb') as f:\n",
    "    M = pickle.load(f)\n",
    "rng.bit_generator.__setstate__(np.load(\"rng.npy\" ,allow_pickle='TRUE').item())\n",
    "\n",
    "\n",
    "SJOIN_long_sequence(num=5)\n",
    "\n",
    "\n",
    "with open('M.pkl', 'wb') as f:\n",
    "    pickle.dump(M, f)\n",
    "np.save(\"rng.npy\", rng.bit_generator.state)"
   ]
  }
 ],
 "metadata": {
  "kernelspec": {
   "display_name": "gt",
   "language": "python",
   "name": "python3"
  },
  "language_info": {
   "codemirror_mode": {
    "name": "ipython",
    "version": 3
   },
   "file_extension": ".py",
   "mimetype": "text/x-python",
   "name": "python",
   "nbconvert_exporter": "python",
   "pygments_lexer": "ipython3",
   "version": "3.11.3"
  }
 },
 "nbformat": 4,
 "nbformat_minor": 2
}
