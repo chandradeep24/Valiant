{
  "cells": [
    {
      "cell_type": "markdown",
      "metadata": {
        "id": "1e0a916e"
      },
      "source": [
        "# Valiant Neuroidal Model Simulation (Post-Submission)\n"
      ],
      "id": "1e0a916e"
    },
    {
      "cell_type": "markdown",
      "metadata": {
        "id": "frWp_GYrX9oA"
      },
      "source": [
        "### Install the *graph-tool* library (https://graph-tool.skewed.de/)"
      ],
      "id": "frWp_GYrX9oA"
    },
    {
      "cell_type": "code",
      "execution_count": null,
      "metadata": {
        "id": "bKylUrLvqy18"
      },
      "outputs": [],
      "source": [
        "%%capture\n",
        "!echo \"deb http://downloads.skewed.de/apt focal main\" >> /etc/apt/sources.list\n",
        "!apt-key adv --keyserver keyserver.ubuntu.com --recv-key 612DEFB798507F25\n",
        "!apt-get update\n",
        "!apt-get install python3-graph-tool python3-matplotlib python3-cairo"
      ],
      "id": "bKylUrLvqy18"
    },
    {
      "cell_type": "markdown",
      "source": [
        "Colab uses a Python install that deviates from the system, workarounds needed:"
      ],
      "metadata": {
        "id": "84eY1NdQhnqb"
      },
      "id": "84eY1NdQhnqb"
    },
    {
      "cell_type": "code",
      "source": [
        "%%capture\n",
        "!apt purge python3-cairo\n",
        "!apt install libcairo2-dev pkg-config python3-dev\n",
        "!pip install --force-reinstall pycairo\n",
        "!pip install zstandard"
      ],
      "metadata": {
        "id": "vvamx-rBhfSu"
      },
      "id": "vvamx-rBhfSu",
      "execution_count": null,
      "outputs": []
    },
    {
      "cell_type": "markdown",
      "metadata": {
        "id": "c306e849"
      },
      "source": [
        "### Import required libraries and seed random number generators"
      ],
      "id": "c306e849"
    },
    {
      "cell_type": "code",
      "execution_count": null,
      "metadata": {
        "id": "623b17ba"
      },
      "outputs": [],
      "source": [
        "%%capture\n",
        "import gc, os, sys\n",
        "from math import comb\n",
        "import numpy as np\n",
        "from numpy.random import *\n",
        "import graph_tool as gt\n",
        "\n",
        "seed(42)\n",
        "np.random.seed(42)\n",
        "gt.seed_rng(42)"
      ],
      "id": "623b17ba"
    },
    {
      "cell_type": "markdown",
      "metadata": {
        "id": "44db43a3"
      },
      "source": [
        "### Define the neuroidal models' properties\n",
        "The following configuration was used to create the leftmost datapoints of the \n",
        "shared representation capacity in Figure 1 of Rwebangira et al. (2023).\n",
        "\n",
        "* The first six parameters are as described by Valiant (2005). \n",
        "* The *H* parameter determines how many memories to JOIN in one \"batch\" of simulation. \n",
        "* The *STOP* parameter determines the level of interference tolerance to be checked at each iteration of JOIN. \n",
        "* The *START_MEM* parameter specifies how many initial memories to grant the model before calling JOIN. \n",
        "* The *r_expected* parameter is used to generate the random, initial memories in a size as expected by the relations defined in Valiant (2005)."
      ],
      "id": "44db43a3"
    },
    {
      "cell_type": "code",
      "execution_count": null,
      "metadata": {
        "id": "6f2c3634"
      },
      "outputs": [],
      "source": [
        "N = 500\n",
        "D = 128\n",
        "T = 1\n",
        "k = 16\n",
        "k_adj = 1.55 \n",
        "P = D / (N - 1)\n",
        "\n",
        "H = 100 \n",
        "STOP = 0.25\n",
        "START_MEM = 100\n",
        "r_expected = 40 "
      ],
      "id": "6f2c3634"
    },
    {
      "cell_type": "markdown",
      "source": [
        "## Generate the graph model"
      ],
      "metadata": {
        "id": "qzz-1cFyKGmk"
      },
      "id": "qzz-1cFyKGmk"
    },
    {
      "cell_type": "markdown",
      "metadata": {
        "id": "93048780"
      },
      "source": [
        "### Create an empty, directed graph"
      ],
      "id": "93048780"
    },
    {
      "cell_type": "code",
      "execution_count": null,
      "metadata": {
        "id": "0f2e3bc2"
      },
      "outputs": [],
      "source": [
        "g = gt.Graph()"
      ],
      "id": "0f2e3bc2"
    },
    {
      "cell_type": "markdown",
      "metadata": {
        "id": "b1511c73"
      },
      "source": [
        "### Populate our graph with $N$ vertices"
      ],
      "id": "b1511c73"
    },
    {
      "cell_type": "code",
      "execution_count": null,
      "metadata": {
        "id": "525c87ec"
      },
      "outputs": [],
      "source": [
        "%%capture\n",
        "g.add_vertex(N)"
      ],
      "id": "525c87ec"
    },
    {
      "cell_type": "markdown",
      "source": [
        "### Calculate the expected number of edges, $P ({N \\choose 2})$"
      ],
      "metadata": {
        "id": "IANpMPhxT_f0"
      },
      "id": "IANpMPhxT_f0"
    },
    {
      "cell_type": "code",
      "source": [
        "num_edges = P * comb(N, 2)"
      ],
      "metadata": {
        "id": "niaWoTEYU9Zp"
      },
      "id": "niaWoTEYU9Zp",
      "execution_count": null,
      "outputs": []
    },
    {
      "cell_type": "markdown",
      "source": [
        "### Add random edges uniformly"
      ],
      "metadata": {
        "id": "K3JFjscVbYau"
      },
      "id": "K3JFjscVbYau"
    },
    {
      "cell_type": "code",
      "source": [
        "gt.add_random_edges(g, num_edges, parallel=False, self_loops=False)"
      ],
      "metadata": {
        "id": "4bb3-V-PbXdK"
      },
      "id": "4bb3-V-PbXdK",
      "execution_count": null,
      "outputs": []
    },
    {
      "cell_type": "markdown",
      "source": [
        "### Shuffle the graph's edges according to $G = (N,E)$ model"
      ],
      "metadata": {
        "id": "9Gxj-mDPV0RB"
      },
      "id": "9Gxj-mDPV0RB"
    },
    {
      "cell_type": "code",
      "source": [
        "gt.random_rewire(g, model='erdos', parallel_edges=False, \n",
        "                            self_loops=False, verbose=True)"
      ],
      "metadata": {
        "id": "Z9SfRQ8fWlCx"
      },
      "id": "Z9SfRQ8fWlCx",
      "execution_count": null,
      "outputs": []
    },
    {
      "cell_type": "markdown",
      "metadata": {
        "id": "79d6cb2c"
      },
      "source": [
        "### Define the graph's vertices to have properties"
      ],
      "id": "79d6cb2c"
    },
    {
      "cell_type": "code",
      "execution_count": null,
      "metadata": {
        "id": "c963fe00"
      },
      "outputs": [],
      "source": [
        "vprop_fired = g.new_vertex_property(\"int\")\n",
        "vprop_memories = g.new_vertex_property(\"int\")\n",
        "vprop_fired_now = g.new_vertex_property(\"int\")\n",
        "vprop_weight = g.new_vertex_property(\"double\")\n",
        "vprop_threshold = g.new_vertex_property(\"double\")"
      ],
      "id": "c963fe00"
    },
    {
      "cell_type": "markdown",
      "metadata": {
        "id": "mPQUC3J0VxcA"
      },
      "source": [
        "### Initialize the properties of each vertex"
      ],
      "id": "mPQUC3J0VxcA"
    },
    {
      "cell_type": "code",
      "execution_count": null,
      "metadata": {
        "id": "wgql45kzIyfp"
      },
      "outputs": [],
      "source": [
        "vprop_fired.a = 0\n",
        "vprop_memories.a = 0\n",
        "vprop_fired_now.a = 0\n",
        "vprop_weight.a = 0.0\n",
        "vprop_threshold.a = T"
      ],
      "id": "wgql45kzIyfp"
    },
    {
      "cell_type": "markdown",
      "source": [
        "### Define the graph's edges to have properties"
      ],
      "metadata": {
        "id": "kfGnZe8MDdUB"
      },
      "id": "kfGnZe8MDdUB"
    },
    {
      "cell_type": "code",
      "execution_count": null,
      "metadata": {
        "id": "H8A4TkcQtI5M"
      },
      "outputs": [],
      "source": [
        "eprop_fired = g.new_edge_property(\"int\")\n",
        "eprop_weight = g.new_edge_property(\"double\")"
      ],
      "id": "H8A4TkcQtI5M"
    },
    {
      "cell_type": "markdown",
      "source": [
        "### Initialize the properties of each edge"
      ],
      "metadata": {
        "id": "mT_fXF_xDkM1"
      },
      "id": "mT_fXF_xDkM1"
    },
    {
      "cell_type": "code",
      "source": [
        "eprop_fired.a = 0\n",
        "eprop_weight.a = (T / (k_adj * k))"
      ],
      "metadata": {
        "id": "uIxtAus0DkBz"
      },
      "id": "uIxtAus0DkBz",
      "execution_count": null,
      "outputs": []
    },
    {
      "cell_type": "markdown",
      "source": [
        "## Vicinal Algorithms for the JOIN algorithm"
      ],
      "metadata": {
        "id": "Vd5E-sO5D4pW"
      },
      "id": "Vd5E-sO5D4pW"
    },
    {
      "cell_type": "markdown",
      "metadata": {
        "id": "yNyRKTZgpZHV"
      },
      "source": [
        "### Memory trace and creation function"
      ],
      "id": "yNyRKTZgpZHV"
    },
    {
      "cell_type": "code",
      "execution_count": null,
      "metadata": {
        "id": "ssb1yaRepcRc"
      },
      "outputs": [],
      "source": [
        "def check_and_fire_and_add(v, memory_C):\n",
        "  sum = 0\n",
        "  for s,t in g.iter_in_edges(v):\n",
        "    if vprop_fired_now[s] > 0:\n",
        "        sum += eprop_weight[g.edge(s,t)]\n",
        "  if sum > vprop_threshold[v]:\n",
        "    vprop_fired[v] += 1\n",
        "    memory_C.append(v)"
      ],
      "id": "ssb1yaRepcRc"
    },
    {
      "cell_type": "markdown",
      "source": [
        "### Interference check function"
      ],
      "metadata": {
        "id": "K6-___hLEBca"
      },
      "id": "K6-___hLEBca"
    },
    {
      "cell_type": "code",
      "execution_count": null,
      "metadata": {
        "id": "c5zOCQnlkWQN"
      },
      "outputs": [],
      "source": [
        "def interference_check(g, memory_bank, a, b, memory_C):\n",
        "  sum = 0\n",
        "  for i in range(len(memory_bank)):\n",
        "    if i != a and i != b: \n",
        "      inter = list(set(memory_C) & set(memory_bank[i]))\n",
        "      if len(inter) > len(memory_bank[i]) / 2:\n",
        "        sum += 2\n",
        "  return sum"
      ],
      "id": "c5zOCQnlkWQN"
    },
    {
      "cell_type": "markdown",
      "metadata": {
        "id": "b234c00e"
      },
      "source": [
        "## The JOIN algorithm\n",
        "This implements the *one-step* variant of JOIN for *shared representations* as \n",
        "defined in Valiant (2005)."
      ],
      "id": "b234c00e"
    },
    {
      "cell_type": "code",
      "execution_count": null,
      "metadata": {
        "id": "cca2362b"
      },
      "outputs": [],
      "source": [
        "def JOIN_shared_one_step(g, memory_bank, i, j):\n",
        "  \"\"\"\n",
        "    Choose two random groups of neurons to become A and B\n",
        "      Basing this on the expected value of r from Valiant (2005)\n",
        "    Set A, then B to fire\n",
        "    Trace C from the firing nodes outward from A and B\n",
        "    Check for interference\n",
        "  \"\"\"\n",
        "\n",
        "  memory_A = memory_bank[i]\n",
        "  memory_B = memory_bank[j]\n",
        "\n",
        "  #Fire A\n",
        "  for v in memory_A:\n",
        "    vprop_fired_now[v] = 1\n",
        "    vprop_fired[v] += 1\n",
        "    vprop_memories[v] += 1\n",
        "\n",
        "  #Fire B\n",
        "  for v in memory_B:\n",
        "    vprop_fired_now[v] = 1\n",
        "    vprop_fired[v] += 1\n",
        "    vprop_memories[v] += 1\n",
        "\n",
        "  memory_C = []\n",
        "  #Check and fire adjacent nodes:\n",
        "  for v in g.iter_vertices():\n",
        "    check_and_fire_and_add(v, memory_C)\n",
        "\n",
        "  inter = interference_check(g, memory_bank, i, j, memory_C)\n",
        "  vprop_fired.a = 0\n",
        "  vprop_fired_now.a = 0\n",
        "  memory_bank.append(memory_C)\n",
        "\n",
        "  return inter, len(memory_C)"
      ],
      "id": "cca2362b"
    },
    {
      "cell_type": "markdown",
      "metadata": {
        "id": "P9LvyYdlJ9uT"
      },
      "source": [
        "## Simulation\n",
        "\n"
      ],
      "id": "P9LvyYdlJ9uT"
    },
    {
      "cell_type": "markdown",
      "source": [
        "### Generate the random, initial memories\n",
        "This is simply noise for which the JOIN algorithm can use so we may observe the\n",
        "algorithm's execution in action. These initial memories are not intended to \n",
        "represent any real \"information\" for which the model is meant to memorize. We \n",
        "continue to operate on the \"blank slate\" notion for the implementation of this \n",
        "model.\n",
        "\n",
        "It is important that the number of starting memories does not exceed the \n",
        "model's capacity, as the resulting execution of JOIN will be halted. It is also \n",
        "important that there are not too few starting memories, as the model can end up \n",
        "\"memorizing\" everything possible from these memories."
      ],
      "metadata": {
        "id": "ZaIrOtRKFw7M"
      },
      "id": "ZaIrOtRKFw7M"
    },
    {
      "cell_type": "code",
      "execution_count": null,
      "metadata": {
        "id": "kcFLXmiMii7q"
      },
      "outputs": [],
      "source": [
        "memory_bank = []\n",
        "for i in np.arange(0, START_MEM):\n",
        "  memory_A = np.random.default_rng().choice(np.arange(0,N-1), size=r_expected)\n",
        "  gc.collect()\n",
        "  memory_bank.append(memory_A)\n",
        "\n",
        "i, j = np.meshgrid(np.arange(len(memory_bank)), np.arange(len(memory_bank)))\n",
        "mask = i != j\n",
        "i = i[mask]\n",
        "j = j[mask]\n",
        "gc.collect()\n",
        "pairs = np.unique(np.sort(np.stack((i,j), axis = 1)), axis=0)\n",
        "np.random.shuffle(pairs)"
      ],
      "id": "kcFLXmiMii7q"
    },
    {
      "cell_type": "markdown",
      "source": [
        "### Call JOIN on all possible pairs of memories until the interference threshold is reached\n",
        "Assuming that the threshold will be reached and this code's execution will \n",
        "halt, we will have reached the model's final capacity."
      ],
      "metadata": {
        "id": "xjEEuq1TGw06"
      },
      "id": "xjEEuq1TGw06"
    },
    {
      "cell_type": "code",
      "source": [
        "total_inters = 0\n",
        "ind = 0\n",
        "inst_inters = 0\n",
        "inst_len = 0\n",
        "\n",
        "for pair in pairs:\n",
        "    ind += 1\n",
        "    i = pair[0]\n",
        "    j = pair[1]\n",
        "    inter_flag, length = JOIN_shared_one_step(g, memory_bank, i, j)\n",
        "    inst_len += length\n",
        "    if ind % H == 0:\n",
        "      print(\"Memories: \", len(memory_bank))\n",
        "      print(\"Instantaneous interference rate: \", inst_inters/H)\n",
        "      print(\"Average interference rate: \", total_inters/len(memory_bank))\n",
        "      print(\"Average size of memories created: \", inst_len/H, \"\\n\\n\")\n",
        "      inst_inters = 0\n",
        "      inst_len = 0\n",
        "    if inter_flag > 0:\n",
        "      total_inters += inter_flag\n",
        "      inst_inters += inter_flag\n",
        "      if total_inters/len(memory_bank) > STOP:\n",
        "        print(\"Config: N=\", N, \" D=\",D, \" k=\", k, \" k_adj=\", k_adj, \" R=\", \n",
        "              r_expected, \"START_MEM=\", START_MEM)\n",
        "        print(\"Halting memory formation at \", len(memory_bank), \n",
        "              \" memories due to more than \", STOP*100, \n",
        "              \"percent total interference\")\n",
        "        print(\"Instantaneous interference rate: \", inst_inters/H)\n",
        "        print(\"Average interference rate: \", total_inters/len(memory_bank))\n",
        "        break"
      ],
      "metadata": {
        "id": "rhJnNGL3Fqmq"
      },
      "id": "rhJnNGL3Fqmq",
      "execution_count": null,
      "outputs": []
    },
    {
      "cell_type": "markdown",
      "source": [
        "### Comparison with the exact capacity for the *disjoint representation* model"
      ],
      "metadata": {
        "id": "OzowHbiNEcXC"
      },
      "id": "OzowHbiNEcXC"
    },
    {
      "cell_type": "code",
      "source": [
        "print(\"Exact capacity in disjoint representation:\", (int)(N / r_expected))"
      ],
      "metadata": {
        "id": "SPCPkDu8Ea4r"
      },
      "id": "SPCPkDu8Ea4r",
      "execution_count": null,
      "outputs": []
    },
    {
      "cell_type": "markdown",
      "source": [
        "# Old Graph Generation Code"
      ],
      "metadata": {
        "id": "9BNnXiQHT0Bs"
      },
      "id": "9BNnXiQHT0Bs"
    },
    {
      "cell_type": "markdown",
      "metadata": {
        "id": "kwCVsVIMXCBg"
      },
      "source": [
        "### Calculate all possible edges\n",
        "While computationally costly, this procedure helps us ensure that we are \n",
        "properly generating an Erdős–Rényi $G=(n,p)$ random graph."
      ],
      "id": "kwCVsVIMXCBg"
    },
    {
      "cell_type": "code",
      "execution_count": null,
      "metadata": {
        "id": "pJw-TTvXsdz2"
      },
      "outputs": [],
      "source": [
        "x, y = np.meshgrid(np.arange(N), np.arange(N))\n",
        "mask = x != y\n",
        "x = x[mask]\n",
        "y = y[mask]\n",
        "pairs = np.stack((x, y), axis=1)"
      ],
      "id": "pJw-TTvXsdz2"
    },
    {
      "cell_type": "markdown",
      "metadata": {
        "id": "W8l0h8ByWbFm"
      },
      "source": [
        "### Conduct $N^2 - N$ Bernoulli trials to calculate the number of edges"
      ],
      "id": "W8l0h8ByWbFm"
    },
    {
      "cell_type": "code",
      "execution_count": null,
      "metadata": {
        "id": "zcH4FpxtRC55"
      },
      "outputs": [],
      "source": [
        "z = np.random.default_rng().geometric(p=P, size=((N*N)-N))\n",
        "num_edges = (z == 1).sum()\n",
        "\n",
        "print(\"Number of edges determined: \", num_edges)"
      ],
      "id": "zcH4FpxtRC55"
    },
    {
      "cell_type": "markdown",
      "source": [
        "### Memory manage the large Bernoulli distribution used"
      ],
      "metadata": {
        "id": "T69w7899C1yy"
      },
      "id": "T69w7899C1yy"
    },
    {
      "cell_type": "code",
      "execution_count": null,
      "metadata": {
        "id": "c_hEXrrtYAFa"
      },
      "outputs": [],
      "source": [
        "%%capture\n",
        "del z\n",
        "gc.collect()"
      ],
      "id": "c_hEXrrtYAFa"
    },
    {
      "cell_type": "markdown",
      "metadata": {
        "id": "JbST-vx7XVZe"
      },
      "source": [
        "### Randomly choose those edges using our previously simulated number of edges"
      ],
      "id": "JbST-vx7XVZe"
    },
    {
      "cell_type": "code",
      "execution_count": null,
      "metadata": {
        "id": "EAr0QfG2XVju"
      },
      "outputs": [],
      "source": [
        "index = np.random.default_rng().choice(pairs.shape[0], \n",
        "                                       size=int(num_edges), \n",
        "                                       replace=False)"
      ],
      "id": "EAr0QfG2XVju"
    },
    {
      "cell_type": "markdown",
      "metadata": {
        "id": "j1nbKsr8YcMP"
      },
      "source": [
        "### Add list of edges to the graph"
      ],
      "id": "j1nbKsr8YcMP"
    },
    {
      "cell_type": "code",
      "execution_count": null,
      "metadata": {
        "id": "0532d5e5"
      },
      "outputs": [],
      "source": [
        "g.add_edge_list(pairs[index])"
      ],
      "id": "0532d5e5"
    },
    {
      "cell_type": "markdown",
      "source": [
        "### Memory manage the lists of all possible vertex combinations"
      ],
      "metadata": {
        "id": "kh0qm2nzDRU7"
      },
      "id": "kh0qm2nzDRU7"
    },
    {
      "cell_type": "code",
      "execution_count": null,
      "metadata": {
        "id": "YTePawo5mnSi"
      },
      "outputs": [],
      "source": [
        "%%capture\n",
        "del x, y\n",
        "gc.collect()"
      ],
      "id": "YTePawo5mnSi"
    }
  ],
  "metadata": {
    "colab": {
      "provenance": []
    },
    "kernelspec": {
      "display_name": "Python 3 (ipykernel)",
      "language": "python",
      "name": "python3"
    },
    "language_info": {
      "codemirror_mode": {
        "name": "ipython",
        "version": 3
      },
      "file_extension": ".py",
      "mimetype": "text/x-python",
      "name": "python",
      "nbconvert_exporter": "python",
      "pygments_lexer": "ipython3",
      "version": "3.9.16"
    }
  },
  "nbformat": 4,
  "nbformat_minor": 5
}