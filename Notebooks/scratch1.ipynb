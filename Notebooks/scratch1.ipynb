{
  "cells": [
    {
      "attachments": {},
      "cell_type": "markdown",
      "id": "1e0a916e",
      "metadata": {
        "id": "1e0a916e"
      },
      "source": [
        "# Valiant Neuroidal Model Simulation (Post-Submission)\n"
      ]
    },
    {
      "attachments": {},
      "cell_type": "markdown",
      "id": "c306e849",
      "metadata": {
        "id": "c306e849"
      },
      "source": [
        "# REFACTOR EVERYTHING EXCEPT THE SIMULATION INTO src.neuroidal"
      ]
    },
    {
      "cell_type": "code",
      "execution_count": 9,
      "id": "623b17ba",
      "metadata": {
        "id": "623b17ba"
      },
      "outputs": [],
      "source": [
        "import gc, os, sys\n",
        "from math import comb\n",
        "import numpy as np\n",
        "from numpy.random import *\n",
        "import graph_tool.all as gt\n",
        "\n",
        "seed(42)\n",
        "np.random.seed(42)\n",
        "gt.seed_rng(42)"
      ]
    },
    {
      "attachments": {},
      "cell_type": "markdown",
      "id": "44db43a3",
      "metadata": {
        "id": "44db43a3"
      },
      "source": [
        "### Define the neuroidal models' properties\n",
        "The following configuration was used to create the leftmost datapoints of the \n",
        "shared representation capacity in Figure 1 of Rwebangira et al. (2023).\n",
        "\n",
        "* The first six parameters are as described by Valiant (2005). \n",
        "* The *H* parameter determines how many memories to JOIN in one \"batch\" of simulation. \n",
        "* The *STOP* parameter determines the level of interference tolerance to be checked at each iteration of JOIN. \n",
        "* The *START_MEM* parameter specifies how many initial memories to grant the model before calling JOIN. \n",
        "* The *r_expected* parameter is used to generate the random, initial memories in a size as expected by the relations defined in Valiant (2005)."
      ]
    },
    {
      "cell_type": "code",
      "execution_count": 10,
      "id": "6f2c3634",
      "metadata": {
        "id": "6f2c3634"
      },
      "outputs": [],
      "source": [
        "N = 500\n",
        "D = 128\n",
        "T = 1\n",
        "k = 16\n",
        "k_adj = 1.55 \n",
        "P = D / (N - 1)\n",
        "\n",
        "H = 100 \n",
        "STOP = 0.25\n",
        "START_MEM = 100\n",
        "r_expected = 40 "
      ]
    },
    {
      "attachments": {},
      "cell_type": "markdown",
      "id": "qzz-1cFyKGmk",
      "metadata": {
        "id": "qzz-1cFyKGmk"
      },
      "source": [
        "## Generate the graph model"
      ]
    },
    {
      "attachments": {},
      "cell_type": "markdown",
      "id": "93048780",
      "metadata": {
        "id": "93048780"
      },
      "source": [
        "### Create an empty, directed graph"
      ]
    },
    {
      "cell_type": "code",
      "execution_count": 11,
      "id": "0f2e3bc2",
      "metadata": {
        "id": "0f2e3bc2"
      },
      "outputs": [],
      "source": [
        "g = gt.Graph()"
      ]
    },
    {
      "attachments": {},
      "cell_type": "markdown",
      "id": "b1511c73",
      "metadata": {
        "id": "b1511c73"
      },
      "source": [
        "### Populate our graph with $N$ vertices"
      ]
    },
    {
      "cell_type": "code",
      "execution_count": 12,
      "id": "525c87ec",
      "metadata": {
        "id": "525c87ec"
      },
      "outputs": [],
      "source": [
        "%%capture\n",
        "g.add_vertex(N)"
      ]
    },
    {
      "attachments": {},
      "cell_type": "markdown",
      "id": "IANpMPhxT_f0",
      "metadata": {
        "id": "IANpMPhxT_f0"
      },
      "source": [
        "### Calculate the expected number of edges, $P ({N \\choose 2})$"
      ]
    },
    {
      "cell_type": "code",
      "execution_count": 17,
      "id": "niaWoTEYU9Zp",
      "metadata": {
        "id": "niaWoTEYU9Zp"
      },
      "outputs": [],
      "source": [
        "num_edges = P * comb(N, 2)"
      ]
    },
    {
      "attachments": {},
      "cell_type": "markdown",
      "id": "K3JFjscVbYau",
      "metadata": {
        "id": "K3JFjscVbYau"
      },
      "source": [
        "### Add random edges uniformly"
      ]
    },
    {
      "cell_type": "code",
      "execution_count": 18,
      "id": "4bb3-V-PbXdK",
      "metadata": {
        "id": "4bb3-V-PbXdK"
      },
      "outputs": [],
      "source": [
        "gt.add_random_edges(g, num_edges, parallel=False, self_loops=False)"
      ]
    },
    {
      "attachments": {},
      "cell_type": "markdown",
      "id": "9Gxj-mDPV0RB",
      "metadata": {
        "id": "9Gxj-mDPV0RB"
      },
      "source": [
        "### Shuffle the graph's edges according to $G = (N,E)$ model"
      ]
    },
    {
      "cell_type": "code",
      "execution_count": 19,
      "id": "Z9SfRQ8fWlCx",
      "metadata": {
        "id": "Z9SfRQ8fWlCx"
      },
      "outputs": [
        {
          "name": "stdout",
          "output_type": "stream",
          "text": [
            "rewiring edges: (1 / 1) 319 of 31999 (0%(1 / 1) 638 of 31999 (1%(1 / 1) 957 of 31999 (2%(1 / 1) 1276 of 31999 (3(1 / 1) 1595 of 31999 (4(1 / 1) 1914 of 31999 (5(1 / 1) 2233 of 31999 (6(1 / 1) 2552 of 31999 (7(1 / 1) 2871 of 31999 (8(1 / 1) 3190 of 31999 (9(1 / 1) 3509 of 31999 (10%(1 / 1) 3828 of 31999 (11%(1 / 1) 4147 of 31999 (12%(1 / 1) 4466 of 31999 (13%(1 / 1) 4785 of 31999 (14%(1 / 1) 5104 of 31999 (15%(1 / 1) 5423 of 31999 (16%(1 / 1) 5742 of 31999 (17%(1 / 1) 6061 of 31999 (18%(1 / 1) 6380 of 31999 (19%(1 / 1) 6699 of 31999 (20%(1 / 1) 7018 of 31999 (21%(1 / 1) 7337 of 31999 (22%(1 / 1) 7656 of 31999 (23%(1 / 1) 7975 of 31999 (24%(1 / 1) 8294 of 31999 (25%(1 / 1) 8613 of 31999 (26%(1 / 1) 8932 of 31999 (27%(1 / 1) 9251 of 31999 (28%(1 / 1) 9570 of 31999 (29%(1 / 1) 9889 of 31999 (30%(1 / 1) 10208 of 31999 (31(1 / 1) 10527 of 31999 (32(1 / 1) 10846 of 31999 (33(1 / 1) 11165 of 31999 (34(1 / 1) 11484 of 31999 (35(1 / 1) 11803 of 31999 (36(1 / 1) 12122 of 31999 (37(1 / 1) 12441 of 31999 (38(1 / 1) 12760 of 31999 (39(1 / 1) 13079 of 31999 (40(1 / 1) 13398 of 31999 (41(1 / 1) 13717 of 31999 (42(1 / 1) 14036 of 31999 (43(1 / 1) 14355 of 31999 (44(1 / 1) 14674 of 31999 (45(1 / 1) 14993 of 31999 (46(1 / 1) 15312 of 31999 (47(1 / 1) 15631 of 31999 (48(1 / 1) 15950 of 31999 (49(1 / 1) 16269 of 31999 (50(1 / 1) 16588 of 31999 (51(1 / 1) 16907 of 31999 (52(1 / 1) 17226 of 31999 (53(1 / 1) 17545 of 31999 (54(1 / 1) 17864 of 31999 (55(1 / 1) 18183 of 31999 (56(1 / 1) 18502 of 31999 (57(1 / 1) 18821 of 31999 (58(1 / 1) 19140 of 31999 (59(1 / 1) 19459 of 31999 (60(1 / 1) 19778 of 31999 (61(1 / 1) 20097 of 31999 (62(1 / 1) 20416 of 31999 (63(1 / 1) 20735 of 31999 (64(1 / 1) 21054 of 31999 (65(1 / 1) 21373 of 31999 (66(1 / 1) 21692 of 31999 (67(1 / 1) 22011 of 31999 (68(1 / 1) 22330 of 31999 (69(1 / 1) 22649 of 31999 (70(1 / 1) 22968 of 31999 (71(1 / 1) 23287 of 31999 (72(1 / 1) 23606 of 31999 (73(1 / 1) 23925 of 31999 (74(1 / 1) 24244 of 31999 (75(1 / 1) 24563 of 31999 (76(1 / 1) 24882 of 31999 (77(1 / 1) 25201 of 31999 (78(1 / 1) 25520 of 31999 (79(1 / 1) 25839 of 31999 (80(1 / 1) 26158 of 31999 (81(1 / 1) 26477 of 31999 (82(1 / 1) 26796 of 31999 (83(1 / 1) 27115 of 31999 (84(1 / 1) 27434 of 31999 (85(1 / 1) 27753 of 31999 (86(1 / 1) 28072 of 31999 (87(1 / 1) 28391 of 31999 (88(1 / 1) 28710 of 31999 (89(1 / 1) 29029 of 31999 (90(1 / 1) 29348 of 31999 (91(1 / 1) 29667 of 31999 (92(1 / 1) 29986 of 31999 (93(1 / 1) 30305 of 31999 (94(1 / 1) 30624 of 31999 (95(1 / 1) 30943 of 31999 (96(1 / 1) 31262 of 31999 (97(1 / 1) 31581 of 31999 (98(1 / 1) 31900 of 31999 (99(1 / 1) 31999 of 31999 (100%)\n"
          ]
        },
        {
          "data": {
            "text/plain": [
              "4157"
            ]
          },
          "execution_count": 19,
          "metadata": {},
          "output_type": "execute_result"
        }
      ],
      "source": [
        "gt.random_rewire(g, model='erdos', parallel_edges=False, \n",
        "                            self_loops=False, verbose=True)"
      ]
    },
    {
      "attachments": {},
      "cell_type": "markdown",
      "id": "79d6cb2c",
      "metadata": {
        "id": "79d6cb2c"
      },
      "source": [
        "### Define the graph's vertices to have properties"
      ]
    },
    {
      "cell_type": "code",
      "execution_count": null,
      "id": "c963fe00",
      "metadata": {
        "id": "c963fe00"
      },
      "outputs": [],
      "source": [
        "vprop_fired = g.new_vertex_property(\"int\")\n",
        "vprop_memories = g.new_vertex_property(\"int\")\n",
        "vprop_fired_now = g.new_vertex_property(\"int\")\n",
        "vprop_weight = g.new_vertex_property(\"double\")\n",
        "vprop_threshold = g.new_vertex_property(\"double\")"
      ]
    },
    {
      "attachments": {},
      "cell_type": "markdown",
      "id": "mPQUC3J0VxcA",
      "metadata": {
        "id": "mPQUC3J0VxcA"
      },
      "source": [
        "### Initialize the properties of each vertex"
      ]
    },
    {
      "cell_type": "code",
      "execution_count": null,
      "id": "wgql45kzIyfp",
      "metadata": {
        "id": "wgql45kzIyfp"
      },
      "outputs": [],
      "source": [
        "vprop_fired.a = 0\n",
        "vprop_memories.a = 0\n",
        "vprop_fired_now.a = 0\n",
        "vprop_weight.a = 0.0\n",
        "vprop_threshold.a = T"
      ]
    },
    {
      "attachments": {},
      "cell_type": "markdown",
      "id": "kfGnZe8MDdUB",
      "metadata": {
        "id": "kfGnZe8MDdUB"
      },
      "source": [
        "### Define the graph's edges to have properties"
      ]
    },
    {
      "cell_type": "code",
      "execution_count": null,
      "id": "H8A4TkcQtI5M",
      "metadata": {
        "id": "H8A4TkcQtI5M"
      },
      "outputs": [],
      "source": [
        "eprop_fired = g.new_edge_property(\"int\")\n",
        "eprop_weight = g.new_edge_property(\"double\")"
      ]
    },
    {
      "attachments": {},
      "cell_type": "markdown",
      "id": "mT_fXF_xDkM1",
      "metadata": {
        "id": "mT_fXF_xDkM1"
      },
      "source": [
        "### Initialize the properties of each edge"
      ]
    },
    {
      "cell_type": "code",
      "execution_count": null,
      "id": "uIxtAus0DkBz",
      "metadata": {
        "id": "uIxtAus0DkBz"
      },
      "outputs": [],
      "source": [
        "eprop_fired.a = 0\n",
        "eprop_weight.a = (T / (k_adj * k))"
      ]
    },
    {
      "attachments": {},
      "cell_type": "markdown",
      "id": "Vd5E-sO5D4pW",
      "metadata": {
        "id": "Vd5E-sO5D4pW"
      },
      "source": [
        "## Vicinal Algorithms for the JOIN algorithm"
      ]
    },
    {
      "attachments": {},
      "cell_type": "markdown",
      "id": "yNyRKTZgpZHV",
      "metadata": {
        "id": "yNyRKTZgpZHV"
      },
      "source": [
        "### Memory trace and creation function"
      ]
    },
    {
      "cell_type": "code",
      "execution_count": 1,
      "id": "ssb1yaRepcRc",
      "metadata": {
        "id": "ssb1yaRepcRc"
      },
      "outputs": [],
      "source": [
        "def check_and_fire_and_add(v, memory_C):\n",
        "  sum = 0\n",
        "  for s,t in g.iter_in_edges(v):\n",
        "    if vprop_fired_now[s] > 0:\n",
        "        sum += eprop_weight[g.edge(s,t)]\n",
        "  if sum > vprop_threshold[v]:\n",
        "    vprop_fired[v] += 1\n",
        "    memory_C.append(v)"
      ]
    },
    {
      "attachments": {},
      "cell_type": "markdown",
      "id": "K6-___hLEBca",
      "metadata": {
        "id": "K6-___hLEBca"
      },
      "source": [
        "### Interference check function"
      ]
    },
    {
      "cell_type": "code",
      "execution_count": null,
      "id": "c5zOCQnlkWQN",
      "metadata": {
        "id": "c5zOCQnlkWQN"
      },
      "outputs": [],
      "source": [
        "def interference_check(g, memory_bank, a, b, memory_C):\n",
        "  sum = 0\n",
        "  for i in range(len(memory_bank)):\n",
        "    if i != a and i != b: \n",
        "      inter = list(set(memory_C) & set(memory_bank[i]))\n",
        "      if len(inter) > len(memory_bank[i]) / 2:\n",
        "        sum += 2\n",
        "  return sum"
      ]
    },
    {
      "attachments": {},
      "cell_type": "markdown",
      "id": "b234c00e",
      "metadata": {
        "id": "b234c00e"
      },
      "source": [
        "## The JOIN algorithm\n",
        "This implements the *one-step* variant of JOIN for *shared representations* as \n",
        "defined in Valiant (2005)."
      ]
    },
    {
      "cell_type": "code",
      "execution_count": null,
      "id": "cca2362b",
      "metadata": {
        "id": "cca2362b"
      },
      "outputs": [],
      "source": [
        "def JOIN_shared_one_step(g, memory_bank, i, j):\n",
        "  \"\"\"\n",
        "    Choose two random groups of neurons to become A and B\n",
        "      Basing this on the expected value of r from Valiant (2005)\n",
        "    Set A, then B to fire\n",
        "    Trace C from the firing nodes outward from A and B\n",
        "    Check for interference\n",
        "  \"\"\"\n",
        "\n",
        "  memory_A = memory_bank[i]\n",
        "  memory_B = memory_bank[j]\n",
        "\n",
        "  #Fire A\n",
        "  for v in memory_A:\n",
        "    vprop_fired_now[v] = 1\n",
        "    vprop_fired[v] += 1\n",
        "    vprop_memories[v] += 1\n",
        "\n",
        "  #Fire B\n",
        "  for v in memory_B:\n",
        "    vprop_fired_now[v] = 1\n",
        "    vprop_fired[v] += 1\n",
        "    vprop_memories[v] += 1\n",
        "\n",
        "  memory_C = []\n",
        "  #Check and fire adjacent nodes:\n",
        "  for v in g.iter_vertices():\n",
        "    check_and_fire_and_add(v, memory_C)\n",
        "\n",
        "  inter = interference_check(g, memory_bank, i, j, memory_C)\n",
        "  vprop_fired.a = 0\n",
        "  vprop_fired_now.a = 0\n",
        "  memory_bank.append(memory_C)\n",
        "\n",
        "  return inter, len(memory_C)"
      ]
    },
    {
      "attachments": {},
      "cell_type": "markdown",
      "id": "P9LvyYdlJ9uT",
      "metadata": {
        "id": "P9LvyYdlJ9uT"
      },
      "source": [
        "## Simulation\n",
        "\n"
      ]
    },
    {
      "attachments": {},
      "cell_type": "markdown",
      "id": "ZaIrOtRKFw7M",
      "metadata": {
        "id": "ZaIrOtRKFw7M"
      },
      "source": [
        "### Generate the random, initial memories\n",
        "This is simply noise for which the JOIN algorithm can use so we may observe the\n",
        "algorithm's execution in action. These initial memories are not intended to \n",
        "represent any real \"information\" for which the model is meant to memorize. We \n",
        "continue to operate on the \"blank slate\" notion for the implementation of this \n",
        "model.\n",
        "\n",
        "It is important that the number of starting memories does not exceed the \n",
        "model's capacity, as the resulting execution of JOIN will be halted. It is also \n",
        "important that there are not too few starting memories, as the model can end up \n",
        "\"memorizing\" everything possible from these memories."
      ]
    },
    {
      "cell_type": "code",
      "execution_count": null,
      "id": "kcFLXmiMii7q",
      "metadata": {
        "id": "kcFLXmiMii7q"
      },
      "outputs": [],
      "source": [
        "memory_bank = []\n",
        "for i in np.arange(0, START_MEM):\n",
        "  memory_A = np.random.default_rng().choice(np.arange(0,N-1), size=r_expected)\n",
        "  gc.collect()\n",
        "  memory_bank.append(memory_A)\n",
        "\n",
        "i, j = np.meshgrid(np.arange(len(memory_bank)), np.arange(len(memory_bank)))\n",
        "mask = i != j\n",
        "i = i[mask]\n",
        "j = j[mask]\n",
        "gc.collect()\n",
        "pairs = np.unique(np.sort(np.stack((i,j), axis = 1)), axis=0)\n",
        "np.random.shuffle(pairs)"
      ]
    },
    {
      "attachments": {},
      "cell_type": "markdown",
      "id": "xjEEuq1TGw06",
      "metadata": {
        "id": "xjEEuq1TGw06"
      },
      "source": [
        "### Call JOIN on all possible pairs of memories until the interference threshold is reached\n",
        "Assuming that the threshold will be reached and this code's execution will \n",
        "halt, we will have reached the model's final capacity."
      ]
    },
    {
      "cell_type": "code",
      "execution_count": null,
      "id": "rhJnNGL3Fqmq",
      "metadata": {
        "id": "rhJnNGL3Fqmq"
      },
      "outputs": [],
      "source": [
        "total_inters = 0\n",
        "ind = 0\n",
        "inst_inters = 0\n",
        "inst_len = 0\n",
        "\n",
        "for pair in pairs:\n",
        "    ind += 1\n",
        "    i = pair[0]\n",
        "    j = pair[1]\n",
        "    inter_flag, length = JOIN_shared_one_step(g, memory_bank, i, j)\n",
        "    inst_len += length\n",
        "    if ind % H == 0:\n",
        "      print(\"Memories: \", len(memory_bank))\n",
        "      print(\"Instantaneous interference rate: \", inst_inters/H)\n",
        "      print(\"Average interference rate: \", total_inters/len(memory_bank))\n",
        "      print(\"Average size of memories created: \", inst_len/H, \"\\n\\n\")\n",
        "      inst_inters = 0\n",
        "      inst_len = 0\n",
        "    if inter_flag > 0:\n",
        "      total_inters += inter_flag\n",
        "      inst_inters += inter_flag\n",
        "      if total_inters/len(memory_bank) > STOP:\n",
        "        print(\"Config: N=\", N, \" D=\",D, \" k=\", k, \" k_adj=\", k_adj, \" R=\", \n",
        "              r_expected, \"START_MEM=\", START_MEM)\n",
        "        print(\"Halting memory formation at \", len(memory_bank), \n",
        "              \" memories due to more than \", STOP*100, \n",
        "              \"percent total interference\")\n",
        "        print(\"Instantaneous interference rate: \", inst_inters/H)\n",
        "        print(\"Average interference rate: \", total_inters/len(memory_bank))\n",
        "        break"
      ]
    },
    {
      "attachments": {},
      "cell_type": "markdown",
      "id": "OzowHbiNEcXC",
      "metadata": {
        "id": "OzowHbiNEcXC"
      },
      "source": [
        "### Comparison with the exact capacity for the *disjoint representation* model"
      ]
    },
    {
      "cell_type": "code",
      "execution_count": null,
      "id": "SPCPkDu8Ea4r",
      "metadata": {
        "id": "SPCPkDu8Ea4r"
      },
      "outputs": [],
      "source": [
        "print(\"Exact capacity in disjoint representation:\", (int)(N / r_expected))"
      ]
    },
    {
      "attachments": {},
      "cell_type": "markdown",
      "id": "9BNnXiQHT0Bs",
      "metadata": {
        "id": "9BNnXiQHT0Bs"
      },
      "source": [
        "# Old Graph Generation Code"
      ]
    },
    {
      "attachments": {},
      "cell_type": "markdown",
      "id": "kwCVsVIMXCBg",
      "metadata": {
        "id": "kwCVsVIMXCBg"
      },
      "source": [
        "### Calculate all possible edges\n",
        "While computationally costly, this procedure helps us ensure that we are \n",
        "properly generating an Erdős–Rényi $G=(n,p)$ random graph."
      ]
    },
    {
      "cell_type": "code",
      "execution_count": null,
      "id": "pJw-TTvXsdz2",
      "metadata": {
        "id": "pJw-TTvXsdz2"
      },
      "outputs": [],
      "source": [
        "x, y = np.meshgrid(np.arange(N), np.arange(N))\n",
        "mask = x != y\n",
        "x = x[mask]\n",
        "y = y[mask]\n",
        "pairs = np.stack((x, y), axis=1)"
      ]
    },
    {
      "attachments": {},
      "cell_type": "markdown",
      "id": "W8l0h8ByWbFm",
      "metadata": {
        "id": "W8l0h8ByWbFm"
      },
      "source": [
        "### Conduct $N^2 - N$ Bernoulli trials to calculate the number of edges"
      ]
    },
    {
      "cell_type": "code",
      "execution_count": null,
      "id": "zcH4FpxtRC55",
      "metadata": {
        "id": "zcH4FpxtRC55"
      },
      "outputs": [],
      "source": [
        "z = np.random.default_rng().geometric(p=P, size=((N*N)-N))\n",
        "num_edges = (z == 1).sum()\n",
        "\n",
        "print(\"Number of edges determined: \", num_edges)"
      ]
    },
    {
      "attachments": {},
      "cell_type": "markdown",
      "id": "T69w7899C1yy",
      "metadata": {
        "id": "T69w7899C1yy"
      },
      "source": [
        "### Memory manage the large Bernoulli distribution used"
      ]
    },
    {
      "cell_type": "code",
      "execution_count": null,
      "id": "c_hEXrrtYAFa",
      "metadata": {
        "id": "c_hEXrrtYAFa"
      },
      "outputs": [],
      "source": [
        "%%capture\n",
        "del z\n",
        "gc.collect()"
      ]
    },
    {
      "attachments": {},
      "cell_type": "markdown",
      "id": "JbST-vx7XVZe",
      "metadata": {
        "id": "JbST-vx7XVZe"
      },
      "source": [
        "### Randomly choose those edges using our previously simulated number of edges"
      ]
    },
    {
      "cell_type": "code",
      "execution_count": null,
      "id": "EAr0QfG2XVju",
      "metadata": {
        "id": "EAr0QfG2XVju"
      },
      "outputs": [],
      "source": [
        "index = np.random.default_rng().choice(pairs.shape[0], \n",
        "                                       size=int(num_edges), \n",
        "                                       replace=False)"
      ]
    },
    {
      "attachments": {},
      "cell_type": "markdown",
      "id": "j1nbKsr8YcMP",
      "metadata": {
        "id": "j1nbKsr8YcMP"
      },
      "source": [
        "### Add list of edges to the graph"
      ]
    },
    {
      "cell_type": "code",
      "execution_count": null,
      "id": "0532d5e5",
      "metadata": {
        "id": "0532d5e5"
      },
      "outputs": [],
      "source": [
        "g.add_edge_list(pairs[index])"
      ]
    },
    {
      "attachments": {},
      "cell_type": "markdown",
      "id": "kh0qm2nzDRU7",
      "metadata": {
        "id": "kh0qm2nzDRU7"
      },
      "source": [
        "### Memory manage the lists of all possible vertex combinations"
      ]
    },
    {
      "cell_type": "code",
      "execution_count": null,
      "id": "YTePawo5mnSi",
      "metadata": {
        "id": "YTePawo5mnSi"
      },
      "outputs": [],
      "source": [
        "%%capture\n",
        "del x, y\n",
        "gc.collect()"
      ]
    }
  ],
  "metadata": {
    "colab": {
      "provenance": []
    },
    "kernelspec": {
      "display_name": "Python 3 (ipykernel)",
      "language": "python",
      "name": "python3"
    },
    "language_info": {
      "codemirror_mode": {
        "name": "ipython",
        "version": 3
      },
      "file_extension": ".py",
      "mimetype": "text/x-python",
      "name": "python",
      "nbconvert_exporter": "python",
      "pygments_lexer": "ipython3",
      "version": "3.11.3"
    }
  },
  "nbformat": 4,
  "nbformat_minor": 5
}
