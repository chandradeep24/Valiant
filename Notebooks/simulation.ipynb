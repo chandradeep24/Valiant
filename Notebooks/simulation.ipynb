{
 "cells": [
  {
   "cell_type": "code",
   "execution_count": 1,
   "metadata": {},
   "outputs": [],
   "source": [
    "%load_ext autoreload\n",
    "%autoreload 2\n",
    "\n",
    "import sys\n",
    "sys.path.insert(0,'..') # Change this based on your system\n",
    "\n",
    "import src.Valiant.neuroidal as nm"
   ]
  },
  {
   "cell_type": "code",
   "execution_count": 29,
   "metadata": {},
   "outputs": [
    {
     "name": "stdout",
     "output_type": "stream",
     "text": [
      "Number of all possible edges: 9900\n",
      "Config: N= 100  D= 64  k= 16  k_adj= 1  R= 16 START_MEM= 1000\n",
      "Halting memory formation at  1001  memories due to more than  10.0 percent average total interference\n",
      "Instantaneous interference rate:  123.0\n",
      "Average interference rate:  1.2287712287712287\n"
     ]
    },
    {
     "data": {
      "text/plain": [
       "<src.Valiant.neuroidal.NeuroidalModel at 0x2952dc690>"
      ]
     },
     "execution_count": 29,
     "metadata": {},
     "output_type": "execute_result"
    },
    {
     "ename": "",
     "evalue": "",
     "output_type": "error",
     "traceback": [
      "\u001b[1;31mThe Kernel crashed while executing code in the the current cell or a previous cell. Please review the code in the cell(s) to identify a possible cause of the failure. Click <a href='https://aka.ms/vscodeJupyterKernelCrash'>here</a> for more info. View Jupyter <a href='command:jupyter.viewOutput'>log</a> for further details."
     ]
    }
   ],
   "source": [
    "'''\n",
    "Use: \n",
    " for N=100, D = 64, K=16, R = 16\n",
    "1.5 for N=500, D = 128, K= 16, R = 40\n",
    "1.58 for N=500, D = 256, K = 16, R = 20\n",
    "1.65 for N=1000 , D = 512, K = 16, R = 20\n",
    "1.74 for N=2000\n",
    "1.85 for N=10000\n",
    "1.9/1.95 for N=100000\n",
    "1.9/1.95 for N=1000000\n",
    "2.0 for bigger N\n",
    "'''\n",
    "\n",
    "'''\n",
    "STOP => T\n",
    "F => k\n",
    "r_exp => r\n",
    "N => N\n",
    "'''\n",
    "\n",
    "model = nm.NeuroidalModel(N=100,D=64,T=1,k=16,k_adj=1,H=10,STOP=0.1,START_MEM=1000,r_exp=16,F = 2)\n",
    "model.create_graph()\n",
    "model.generate_memory_bank()\n",
    "model.simulate()\n",
    "# model._generate_adj_mat()\n",
    "# model.memory_bank"
   ]
  },
  {
   "cell_type": "code",
   "execution_count": null,
   "metadata": {},
   "outputs": [],
   "source": []
  }
 ],
 "metadata": {
  "kernelspec": {
   "display_name": "gt",
   "language": "python",
   "name": "python3"
  },
  "language_info": {
   "codemirror_mode": {
    "name": "ipython",
    "version": 3
   },
   "file_extension": ".py",
   "mimetype": "text/x-python",
   "name": "python",
   "nbconvert_exporter": "python",
   "pygments_lexer": "ipython3",
   "version": "3.11.3"
  },
  "orig_nbformat": 4
 },
 "nbformat": 4,
 "nbformat_minor": 2
}
