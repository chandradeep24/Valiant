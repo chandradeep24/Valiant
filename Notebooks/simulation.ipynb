{
 "cells": [
  {
   "cell_type": "code",
   "execution_count": 2,
   "metadata": {},
   "outputs": [],
   "source": [
    "%load_ext autoreload\n",
    "%autoreload 2\n",
    "\n",
    "import sys\n",
    "sys.path.insert(0,'..') # Change this based on your system\n",
    "\n",
    "import src.Valiant.neuroidal as nm"
   ]
  },
  {
   "cell_type": "code",
   "execution_count": 28,
   "metadata": {},
   "outputs": [
    {
     "name": "stdout",
     "output_type": "stream",
     "text": [
      "Number of all possible edges: 249500\n"
     ]
    }
   ],
   "source": [
    "'''\n",
    "Use: \n",
    " for N=100, D = 64, K=16, R = 16\n",
    "1.5 for N=500, D = 128, K= 16, R = 40\n",
    "1.58 for N=500, D = 256, K = 16, R = 20\n",
    "1.65 for N=1000 , D = 512, K = 16, R = 20\n",
    "1.74 for N=2000\n",
    "1.85 for N=10000\n",
    "1.9/1.95 for N=100000\n",
    "1.9/1.95 for N=1000000\n",
    "2.0 for bigger N\n",
    "'''\n",
    "\n",
    "'''\n",
    "STOP => T\n",
    "F => k\n",
    "r_exp => r\n",
    "N => N\n",
    "'''\n",
    "\n",
    "model = nm.NeuroidalModel(N=500,D=128,T=1,k=16,k_adj=1.5,H=10,STOP=0.1,START_MEM=100,r_exp=40,F = 2)\n",
    "model.create_graph()\n",
    "model.generate_memory_bank()\n",
    "model.visualize()\n",
    "# model.simulate()\n",
    "# model._generate_adj_mat()\n",
    "# model.memory_bank"
   ]
  },
  {
   "cell_type": "code",
   "execution_count": 18,
   "metadata": {},
   "outputs": [
    {
     "data": {
      "text/plain": [
       "[array([1., 0., 0.]),\n",
       " array([1. , 0.6, 0. ]),\n",
       " array([0.8, 1. , 0. ]),\n",
       " array([0.2, 1. , 0. ]),\n",
       " array([0. , 1. , 0.4]),\n",
       " array([0., 1., 1.]),\n",
       " array([0. , 0.4, 1. ]),\n",
       " array([0.2, 0. , 1. ]),\n",
       " array([0.8, 0. , 1. ]),\n",
       " array([1. , 0. , 0.6])]"
      ]
     },
     "execution_count": 18,
     "metadata": {},
     "output_type": "execute_result"
    }
   ],
   "source": [
    "import colorsys\n",
    "import numpy as np\n",
    "\n",
    "def generate_distinct_colors(num_colors):\n",
    "    colors = []\n",
    "    for i in range(num_colors):\n",
    "        hue = i / float(num_colors)\n",
    "        rgb = colorsys.hsv_to_rgb(hue, 1.0, 1.0)\n",
    "        colors.append(np.array(rgb))\n",
    "    return colors\n",
    "\n",
    "num_colors = 10  # Change this to the number of distinct colors you need\n",
    "distinct_colors = generate_distinct_colors(num_colors)\n",
    "\n",
    "distinct_colors"
   ]
  },
  {
   "cell_type": "code",
   "execution_count": null,
   "metadata": {},
   "outputs": [],
   "source": []
  }
 ],
 "metadata": {
  "kernelspec": {
   "display_name": "gt",
   "language": "python",
   "name": "python3"
  },
  "language_info": {
   "codemirror_mode": {
    "name": "ipython",
    "version": 3
   },
   "file_extension": ".py",
   "mimetype": "text/x-python",
   "name": "python",
   "nbconvert_exporter": "python",
   "pygments_lexer": "ipython3",
   "version": "3.11.3"
  },
  "orig_nbformat": 4
 },
 "nbformat": 4,
 "nbformat_minor": 2
}
