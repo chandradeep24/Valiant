{
 "cells": [
  {
   "cell_type": "code",
   "execution_count": 4,
   "metadata": {},
   "outputs": [
    {
     "name": "stdout",
     "output_type": "stream",
     "text": [
      "The autoreload extension is already loaded. To reload it, use:\n",
      "  %reload_ext autoreload\n"
     ]
    }
   ],
   "source": [
    "%load_ext autoreload\n",
    "%autoreload 2\n",
    "\n",
    "import sys\n",
    "sys.path.insert(0,'..') # Change this based on your system\n",
    "\n",
    "import src.Valiant.neuroidal as nm"
   ]
  },
  {
   "cell_type": "code",
   "execution_count": 5,
   "metadata": {},
   "outputs": [
    {
     "name": "stdout",
     "output_type": "stream",
     "text": [
      "Number of all possible edges: 249500\n",
      "Config: N= 500  D= 128  k= 16  k_adj= 1.5  R= 40 START_MEM= 100\n",
      "Halting memory formation at  148  memories due to more than  10.0 percent average total interference\n",
      "Instantaneous interference rate:  0.36\n",
      "Average interference rate:  0.12162162162162163\n"
     ]
    },
    {
     "data": {
      "text/plain": [
       "<src.Valiant.neuroidal.NeuroidalModel at 0x16d359150>"
      ]
     },
     "execution_count": 5,
     "metadata": {},
     "output_type": "execute_result"
    }
   ],
   "source": [
    "'''\n",
    "Use: \n",
    " for N=100, D = 64, K=16, R = 16\n",
    "1.5 for N=500, D = 128, K= 16, R = 40\n",
    "1.58 for N=500, D = 256, K = 16, R = 20\n",
    "1.65 for N=1000 , D = 512, K = 16, R = 20\n",
    "1.74 for N=2000\n",
    "1.85 for N=10000\n",
    "1.9/1.95 for N=100000\n",
    "1.9/1.95 for N=1000000\n",
    "2.0 for bigger N\n",
    "'''\n",
    "\n",
    "'''\n",
    "STOP => T\n",
    "F => k\n",
    "r_exp => r\n",
    "N => N\n",
    "'''\n",
    "\n",
    "model = nm.NeuroidalModel(N=500,D=128,T=1,k=16,k_adj=1.5,H=50,STOP=0.1,START_MEM=100,r_exp=40,F = 2)\n",
    "model.create_graph()\n",
    "model.greedy_generate_memory_bank()\n",
    "model.simulate(vis=True)"
   ]
  },
  {
   "cell_type": "code",
   "execution_count": null,
   "metadata": {},
   "outputs": [],
   "source": []
  }
 ],
 "metadata": {
  "kernelspec": {
   "display_name": "gt",
   "language": "python",
   "name": "python3"
  },
  "language_info": {
   "codemirror_mode": {
    "name": "ipython",
    "version": 3
   },
   "file_extension": ".py",
   "mimetype": "text/x-python",
   "name": "python",
   "nbconvert_exporter": "python",
   "pygments_lexer": "ipython3",
   "version": "3.11.3"
  },
  "orig_nbformat": 4
 },
 "nbformat": 4,
 "nbformat_minor": 2
}
