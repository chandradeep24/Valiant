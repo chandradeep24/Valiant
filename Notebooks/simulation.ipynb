{
 "cells": [
  {
   "cell_type": "code",
   "execution_count": 11,
   "metadata": {},
   "outputs": [
    {
     "name": "stdout",
     "output_type": "stream",
     "text": [
      "The autoreload extension is already loaded. To reload it, use:\n",
      "  %reload_ext autoreload\n"
     ]
    }
   ],
   "source": [
    "%load_ext autoreload\n",
    "%autoreload 2\n",
    "\n",
    "import sys\n",
    "sys.path.insert(0,'..') # Change this based on your system\n",
    "\n",
    "import src.neuroidal as nm"
   ]
  },
  {
   "cell_type": "code",
   "execution_count": 33,
   "metadata": {},
   "outputs": [
    {
     "name": "stdout",
     "output_type": "stream",
     "text": [
      "Number of all possible edges: 99990000\n",
      "Memories:  2100\n",
      "Instantaneous interference rate:  0.0\n",
      "Average interference rate:  0.0\n",
      "Average size of memories created:  198.34 \n",
      "\n",
      "\n",
      "Memories:  2200\n",
      "Instantaneous interference rate:  0.0\n",
      "Average interference rate:  0.0\n",
      "Average size of memories created:  199.71 \n",
      "\n",
      "\n",
      "Memories:  2300\n",
      "Instantaneous interference rate:  0.0\n",
      "Average interference rate:  0.0\n",
      "Average size of memories created:  199.61 \n",
      "\n",
      "\n",
      "Memories:  2400\n",
      "Instantaneous interference rate:  0.0\n",
      "Average interference rate:  0.0\n",
      "Average size of memories created:  195.33 \n",
      "\n",
      "\n",
      "Memories:  2500\n",
      "Instantaneous interference rate:  0.0\n",
      "Average interference rate:  0.0\n",
      "Average size of memories created:  200.17 \n",
      "\n",
      "\n",
      "Memories:  2600\n",
      "Instantaneous interference rate:  0.0\n",
      "Average interference rate:  0.0\n",
      "Average size of memories created:  202.7 \n",
      "\n",
      "\n",
      "Memories:  2700\n",
      "Instantaneous interference rate:  0.0\n",
      "Average interference rate:  0.0\n",
      "Average size of memories created:  198.74 \n",
      "\n",
      "\n",
      "Memories:  2800\n",
      "Instantaneous interference rate:  0.0\n",
      "Average interference rate:  0.0\n",
      "Average size of memories created:  200.82 \n",
      "\n",
      "\n",
      "Memories:  2900\n",
      "Instantaneous interference rate:  0.0\n",
      "Average interference rate:  0.0\n",
      "Average size of memories created:  196.96 \n",
      "\n",
      "\n",
      "Memories:  3000\n",
      "Instantaneous interference rate:  0.0\n",
      "Average interference rate:  0.0\n",
      "Average size of memories created:  199.31 \n",
      "\n",
      "\n",
      "Memories:  3100\n",
      "Instantaneous interference rate:  0.0\n",
      "Average interference rate:  0.0\n",
      "Average size of memories created:  201.25 \n",
      "\n",
      "\n",
      "Memories:  3200\n",
      "Instantaneous interference rate:  0.0\n",
      "Average interference rate:  0.0\n",
      "Average size of memories created:  195.91 \n",
      "\n",
      "\n",
      "Memories:  3300\n",
      "Instantaneous interference rate:  0.0\n",
      "Average interference rate:  0.0\n",
      "Average size of memories created:  198.8 \n",
      "\n",
      "\n"
     ]
    },
    {
     "ename": "KeyboardInterrupt",
     "evalue": "",
     "output_type": "error",
     "traceback": [
      "\u001b[0;31m---------------------------------------------------------------------------\u001b[0m",
      "\u001b[0;31mKeyboardInterrupt\u001b[0m                         Traceback (most recent call last)",
      "Cell \u001b[0;32mIn[33], line 16\u001b[0m\n\u001b[1;32m     14\u001b[0m model\u001b[39m.\u001b[39mcreate_graph()\n\u001b[1;32m     15\u001b[0m model\u001b[39m.\u001b[39mgenerate_memory_bank()\n\u001b[0;32m---> 16\u001b[0m model\u001b[39m.\u001b[39;49msimulate()\n",
      "File \u001b[0;32m~/Desktop/MS/Valiant/notebooks/../src/neuroidal.py:218\u001b[0m, in \u001b[0;36mNeuroidalModel.simulate\u001b[0;34m(self)\u001b[0m\n\u001b[1;32m    216\u001b[0m i \u001b[39m=\u001b[39m pair[\u001b[39m0\u001b[39m]\n\u001b[1;32m    217\u001b[0m j \u001b[39m=\u001b[39m pair[\u001b[39m1\u001b[39m]\n\u001b[0;32m--> 218\u001b[0m inter_flag, length \u001b[39m=\u001b[39m \u001b[39mself\u001b[39;49m\u001b[39m.\u001b[39;49m_JOIN_one_step_shared(i, j)\n\u001b[1;32m    219\u001b[0m inst_len \u001b[39m+\u001b[39m\u001b[39m=\u001b[39m length\n\u001b[1;32m    220\u001b[0m \u001b[39mif\u001b[39;00m ind \u001b[39m%\u001b[39m \u001b[39mself\u001b[39m\u001b[39m.\u001b[39mH \u001b[39m==\u001b[39m \u001b[39m0\u001b[39m:\n",
      "File \u001b[0;32m~/Desktop/MS/Valiant/notebooks/../src/neuroidal.py:134\u001b[0m, in \u001b[0;36mNeuroidalModel._JOIN_one_step_shared\u001b[0;34m(self, i, j)\u001b[0m\n\u001b[1;32m    133\u001b[0m \u001b[39mdef\u001b[39;00m \u001b[39m_JOIN_one_step_shared\u001b[39m(\u001b[39mself\u001b[39m, i, j):\n\u001b[0;32m--> 134\u001b[0m     \u001b[39mself\u001b[39;49m\u001b[39m.\u001b[39;49m_generate_adj_mat()\n\u001b[1;32m    136\u001b[0m     memory_A \u001b[39m=\u001b[39m \u001b[39mself\u001b[39m\u001b[39m.\u001b[39mmemory_bank[i]\n\u001b[1;32m    137\u001b[0m     memory_B \u001b[39m=\u001b[39m \u001b[39mself\u001b[39m\u001b[39m.\u001b[39mmemory_bank[j]\n",
      "File \u001b[0;32m~/Desktop/MS/Valiant/notebooks/../src/neuroidal.py:108\u001b[0m, in \u001b[0;36mNeuroidalModel._generate_adj_mat\u001b[0;34m(self)\u001b[0m\n\u001b[1;32m    107\u001b[0m \u001b[39mdef\u001b[39;00m \u001b[39m_generate_adj_mat\u001b[39m(\u001b[39mself\u001b[39m):\n\u001b[0;32m--> 108\u001b[0m     \u001b[39mself\u001b[39m\u001b[39m.\u001b[39madjmat \u001b[39m=\u001b[39m gt\u001b[39m.\u001b[39;49madjacency(\u001b[39mself\u001b[39;49m\u001b[39m.\u001b[39;49mg, \u001b[39mself\u001b[39;49m\u001b[39m.\u001b[39;49meprop_weight)\n\u001b[1;32m    109\u001b[0m     \u001b[39m# print(self.adjmat)\u001b[39;00m\n\u001b[1;32m    110\u001b[0m     \u001b[39mreturn\u001b[39;00m \u001b[39mself\u001b[39m\n",
      "File \u001b[0;32m~/miniconda3/envs/gt/lib/python3.11/site-packages/graph_tool/spectral/__init__.py:201\u001b[0m, in \u001b[0;36madjacency\u001b[0;34m(g, weight, vindex, operator, csr)\u001b[0m\n\u001b[1;32m    198\u001b[0m i \u001b[39m=\u001b[39m numpy\u001b[39m.\u001b[39mzeros(E, dtype\u001b[39m=\u001b[39m\u001b[39m\"\u001b[39m\u001b[39mint32\u001b[39m\u001b[39m\"\u001b[39m)\n\u001b[1;32m    199\u001b[0m j \u001b[39m=\u001b[39m numpy\u001b[39m.\u001b[39mzeros(E, dtype\u001b[39m=\u001b[39m\u001b[39m\"\u001b[39m\u001b[39mint32\u001b[39m\u001b[39m\"\u001b[39m)\n\u001b[0;32m--> 201\u001b[0m libgraph_tool_spectral\u001b[39m.\u001b[39;49madjacency(g\u001b[39m.\u001b[39;49m_Graph__graph, _prop(\u001b[39m\"\u001b[39;49m\u001b[39mv\u001b[39;49m\u001b[39m\"\u001b[39;49m, g, vindex),\n\u001b[1;32m    202\u001b[0m                                  _prop(\u001b[39m\"\u001b[39;49m\u001b[39me\u001b[39;49m\u001b[39m\"\u001b[39;49m, g, weight), data, i, j)\n\u001b[1;32m    204\u001b[0m \u001b[39mif\u001b[39;00m E \u001b[39m>\u001b[39m \u001b[39m0\u001b[39m:\n\u001b[1;32m    205\u001b[0m     V \u001b[39m=\u001b[39m \u001b[39mmax\u001b[39m(g\u001b[39m.\u001b[39mnum_vertices(), \u001b[39mmax\u001b[39m(i\u001b[39m.\u001b[39mmax() \u001b[39m+\u001b[39m \u001b[39m1\u001b[39m, j\u001b[39m.\u001b[39mmax() \u001b[39m+\u001b[39m \u001b[39m1\u001b[39m))\n",
      "\u001b[0;31mKeyboardInterrupt\u001b[0m: "
     ]
    }
   ],
   "source": [
    "'''\n",
    "Use: \n",
    "1.5 for N=500, D = 128, K= 16, R = 40\n",
    "1.58 for N=500, D = 256, K = 16, R = 20\n",
    "1.65 for N=1000 , D = 512, K = 16, R = 20\n",
    "1.74 for N=2000\n",
    "1.85 for N=10000\n",
    "1.9/1.95 for N=100000\n",
    "1.9/1.95 for N=1000000\n",
    "2.0 for bigger N\n",
    "'''\n",
    "\n",
    "model = nm.NeuroidalModel(N=10000,D=512,T=1,k=16,k_adj=1.85,H=100,STOP=0.25,START_MEM=2000,r_exp=200)\n",
    "model.create_graph()\n",
    "model.generate_memory_bank()\n",
    "model.simulate()"
   ]
  },
  {
   "cell_type": "code",
   "execution_count": null,
   "metadata": {},
   "outputs": [],
   "source": []
  }
 ],
 "metadata": {
  "kernelspec": {
   "display_name": "gt",
   "language": "python",
   "name": "python3"
  },
  "language_info": {
   "codemirror_mode": {
    "name": "ipython",
    "version": 3
   },
   "file_extension": ".py",
   "mimetype": "text/x-python",
   "name": "python",
   "nbconvert_exporter": "python",
   "pygments_lexer": "ipython3",
   "version": "3.11.3"
  },
  "orig_nbformat": 4
 },
 "nbformat": 4,
 "nbformat_minor": 2
}
