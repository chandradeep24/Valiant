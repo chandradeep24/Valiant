{
 "cells": [
  {
   "cell_type": "code",
   "execution_count": 1,
   "metadata": {},
   "outputs": [],
   "source": [
    "%load_ext autoreload\n",
    "%autoreload 2\n",
    "\n",
    "import sys\n",
    "sys.path.insert(0,'..') # Change this based on your system\n",
    "\n",
    "import src.neuroidal as nm"
   ]
  },
  {
   "cell_type": "code",
   "execution_count": 7,
   "metadata": {},
   "outputs": [
    {
     "name": "stdout",
     "output_type": "stream",
     "text": [
      "Number of all possible edges: 999000\n",
      "Memories:  200\n",
      "Instantaneous interference rate:  0.0\n",
      "Average interference rate:  0.0\n",
      "Average size of memories created:  19.2 \n",
      "\n",
      "\n",
      "Memories:  300\n",
      "Instantaneous interference rate:  0.22\n",
      "Average interference rate:  0.07333333333333333\n",
      "Average size of memories created:  19.95 \n",
      "\n",
      "\n",
      "Memories:  400\n",
      "Instantaneous interference rate:  0.3\n",
      "Average interference rate:  0.13\n",
      "Average size of memories created:  19.46 \n",
      "\n",
      "\n",
      "Memories:  500\n",
      "Instantaneous interference rate:  0.12\n",
      "Average interference rate:  0.128\n",
      "Average size of memories created:  20.59 \n",
      "\n",
      "\n",
      "Memories:  600\n",
      "Instantaneous interference rate:  0.44\n",
      "Average interference rate:  0.18\n",
      "Average size of memories created:  18.64 \n",
      "\n",
      "\n",
      "Memories:  700\n",
      "Instantaneous interference rate:  0.26\n",
      "Average interference rate:  0.19142857142857142\n",
      "Average size of memories created:  19.35 \n",
      "\n",
      "\n",
      "Memories:  800\n",
      "Instantaneous interference rate:  0.42\n",
      "Average interference rate:  0.22\n",
      "Average size of memories created:  19.03 \n",
      "\n",
      "\n",
      "Memories:  900\n",
      "Instantaneous interference rate:  0.46\n",
      "Average interference rate:  0.24666666666666667\n",
      "Average size of memories created:  18.25 \n",
      "\n",
      "\n",
      "Config: N= 1000  D= 512  k= 16  k_adj= 1.65  R= 20 START_MEM= 100\n",
      "Halting memory formation at  903  memories due to more than  25.0 percent total interference\n",
      "Instantaneous interference rate:  0.04\n",
      "Average interference rate:  0.2502768549280177\n"
     ]
    },
    {
     "data": {
      "text/plain": [
       "<src.neuroidal.NeuroidalModel at 0x28bc09a10>"
      ]
     },
     "execution_count": 7,
     "metadata": {},
     "output_type": "execute_result"
    }
   ],
   "source": [
    "'''\n",
    "Use: \n",
    "1.5 for N=500, D = 128, K= 16, R = 40\n",
    "1.58 for N=500, D = 256, K = 16, R = 20\n",
    "1.65 for N=1000 , D = 512, K = 16, R = 20\n",
    "1.74 for N=2000\n",
    "1.85 for N=10000\n",
    "1.9/1.95 for N=100000\n",
    "1.9/1.95 for N=1000000\n",
    "2.0 for bigger N\n",
    "'''\n",
    "\n",
    "model = nm.NeuroidalModel(N=1000,D=512,T=1,k=16,k_adj=1.65,H=100,STOP=0.25,START_MEM=10,r_exp=20,F = 2)\n",
    "model.create_graph()\n",
    "model.generate_memory_bank()\n",
    "model.simulate()"
   ]
  }
 ],
 "metadata": {
  "kernelspec": {
   "display_name": "gt",
   "language": "python",
   "name": "python3"
  },
  "language_info": {
   "codemirror_mode": {
    "name": "ipython",
    "version": 3
   },
   "file_extension": ".py",
   "mimetype": "text/x-python",
   "name": "python",
   "nbconvert_exporter": "python",
   "pygments_lexer": "ipython3",
   "version": "3.11.3"
  },
  "orig_nbformat": 4
 },
 "nbformat": 4,
 "nbformat_minor": 2
}
