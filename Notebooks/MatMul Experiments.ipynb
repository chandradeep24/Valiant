{
 "cells": [
  {
   "cell_type": "code",
   "execution_count": 145,
   "id": "fb6e3141-156a-49fc-a2be-5e14bc817bc4",
   "metadata": {},
   "outputs": [],
   "source": [
    "import networkx as nx\n",
    "import numpy as np\n",
    "from scipy.special import comb"
   ]
  },
  {
   "cell_type": "code",
   "execution_count": 169,
   "id": "1f6cedf9-b614-442a-a81d-088a06dbd872",
   "metadata": {},
   "outputs": [],
   "source": [
    "N = 500\n",
    "D = 128\n",
    "T = 1\n",
    "k = 16\n",
    "k_adj = 1.55 \n",
    "P = D / (N - 1)\n",
    "\n",
    "H = 100 \n",
    "STOP = 0.25\n",
    "START_MEM = 100\n",
    "r_expected = 40 "
   ]
  },
  {
   "cell_type": "code",
   "execution_count": 170,
   "id": "c118b425-56bd-495d-9cdb-837020dd0aa0",
   "metadata": {},
   "outputs": [],
   "source": [
    "G = nx.DiGraph()\n",
    "G.add_nodes_from(np.arange(N))"
   ]
  },
  {
   "cell_type": "code",
   "execution_count": 166,
   "id": "e0d7862f-bec0-4b64-8d39-aa077b13950e",
   "metadata": {},
   "outputs": [
    {
     "name": "stdout",
     "output_type": "stream",
     "text": [
      "Number of edges determined:  64078\n"
     ]
    }
   ],
   "source": [
    "x, y = np.meshgrid(np.arange(N), np.arange(N))\n",
    "mask = x != y\n",
    "x = x[mask]\n",
    "y = y[mask]\n",
    "pairs = np.stack((x, y), axis=1)\n",
    "\n",
    "z = np.random.default_rng().geometric(p=P, size=((N*N)-N))\n",
    "num_edges = (z == 1).sum()\n",
    "\n",
    "print(\"Number of edges determined: \", num_edges)"
   ]
  },
  {
   "cell_type": "code",
   "execution_count": 167,
   "id": "43d9d814-2ad8-46d5-8a2d-70e0493ed1a5",
   "metadata": {},
   "outputs": [],
   "source": [
    "index = np.random.default_rng().choice(pairs.shape[0], \n",
    "                                       size=int(num_edges), \n",
    "                                       replace=False)"
   ]
  },
  {
   "cell_type": "code",
   "execution_count": 168,
   "id": "ca8e9a31-33da-40ee-bdfd-3d8aadbd93c6",
   "metadata": {},
   "outputs": [],
   "source": [
    "p = pairs[index]\n",
    "weights = (np.ones(p.shape[0]) * (T / (k_adj * k))).reshape(-1, 1)\n",
    "G.add_weighted_edges_from(np.concatenate([p, weights], axis = 1), weight='weight')"
   ]
  },
  {
   "cell_type": "code",
   "execution_count": 115,
   "id": "efbf32c8-0313-4bb0-9ab3-ec45b9ec9435",
   "metadata": {},
   "outputs": [],
   "source": [
    "memory_bank = []\n",
    "for i in np.arange(0, START_MEM):\n",
    "    memory_A = np.random.default_rng().choice(np.arange(0,N-1), size=r_expected)\n",
    "    memory_bank.append(memory_A)\n",
    "\n",
    "i, j = np.meshgrid(np.arange(len(memory_bank)), np.arange(len(memory_bank)))\n",
    "mask = i != j\n",
    "i = i[mask]\n",
    "j = j[mask]\n",
    "pairs = np.unique(np.sort(np.stack((i,j), axis = 1)), axis=0)\n",
    "np.random.shuffle(pairs)"
   ]
  },
  {
   "cell_type": "code",
   "execution_count": 116,
   "id": "902fea40-a03f-47a9-b344-becbacd4d348",
   "metadata": {},
   "outputs": [],
   "source": [
    "total_inters = 0\n",
    "ind = 0\n",
    "inst_inters = 0\n",
    "inst_len = 0"
   ]
  },
  {
   "cell_type": "code",
   "execution_count": 117,
   "id": "e5a405a2-ce6a-4eaf-90c4-da9fa4e109df",
   "metadata": {},
   "outputs": [],
   "source": [
    "def interference_check(memory_bank, a, b, memory_C):\n",
    "    sum = 0\n",
    "    for i in range(len(memory_bank)):\n",
    "        if i != a and i != b: \n",
    "            inter = list(set(memory_C.tolist()) & set(memory_bank[i]))\n",
    "            if len(inter) > len(memory_bank[i]) / 2:\n",
    "                sum += 2\n",
    "    return sum"
   ]
  },
  {
   "cell_type": "code",
   "execution_count": 136,
   "id": "49d4d831-db3b-472c-a7ac-11562157e34b",
   "metadata": {},
   "outputs": [],
   "source": [
    "def JOIN_shared_one_step(memory_bank, i, j, adjmat):\n",
    "    memory_A = memory_bank[i]\n",
    "    memory_B = memory_bank[j]\n",
    "\n",
    "    state = np.zeros(adjmat.shape[0])\n",
    "    state[memory_A] = 1\n",
    "    state[memory_B] = 1\n",
    "    \n",
    "    fired = np.heaviside((adjmat @ state) - 1, 1)\n",
    "    \n",
    "    memory_C = np.nonzero(fired)[0]\n",
    "    \n",
    "    inter = interference_check(memory_bank, i, j, memory_C)\n",
    "    memory_bank.append(memory_C)\n",
    "    \n",
    "    return inter, len(memory_C)"
   ]
  },
  {
   "cell_type": "code",
   "execution_count": 141,
   "id": "5691824b-66ec-4ff4-8935-80bbc186df0f",
   "metadata": {},
   "outputs": [
    {
     "name": "stderr",
     "output_type": "stream",
     "text": [
      "C:\\Users\\Shosei\\AppData\\Local\\Temp\\ipykernel_27872\\3491176581.py:1: FutureWarning: adjacency_matrix will return a scipy.sparse array instead of a matrix in Networkx 3.0.\n",
      "  adjmat = nx.adjacency_matrix(G)\n"
     ]
    },
    {
     "name": "stdout",
     "output_type": "stream",
     "text": [
      "Memories:  201\n",
      "Instantaneous interference rate:  0.14\n",
      "Average interference rate:  0.06965174129353234\n",
      "Average size of memories created:  37.88 \n",
      "\n",
      "\n",
      "Config: N= 500  D= 128  k= 16  k_adj= 1.55  R= 40 START_MEM= 100\n",
      "Halting memory formation at  274  memories due to more than  25.0 percent total interference\n",
      "Instantaneous interference rate:  0.56\n",
      "Average interference rate:  0.25547445255474455\n"
     ]
    }
   ],
   "source": [
    "adjmat = nx.adjacency_matrix(G)\n",
    "\n",
    "total_inters = 0\n",
    "ind = 0\n",
    "inst_inters = 0\n",
    "inst_len = 0\n",
    "\n",
    "for pair in pairs:\n",
    "    ind += 1\n",
    "    i = pair[0]\n",
    "    j = pair[1]\n",
    "    inter_flag, length = JOIN_shared_one_step(memory_bank, i, j, adjmat)\n",
    "    inst_len += length\n",
    "    if ind % H == 0:\n",
    "        print(\"Memories: \", len(memory_bank))\n",
    "        print(\"Instantaneous interference rate: \", inst_inters/H)\n",
    "        print(\"Average interference rate: \", total_inters/len(memory_bank))\n",
    "        print(\"Average size of memories created: \", inst_len/H, \"\\n\\n\")\n",
    "        inst_inters = 0\n",
    "        inst_len = 0\n",
    "    if inter_flag > 0:\n",
    "        total_inters += inter_flag\n",
    "        inst_inters += inter_flag\n",
    "        if total_inters/len(memory_bank) > STOP:\n",
    "            print(\"Config: N=\", N, \" D=\",D, \" k=\", k, \" k_adj=\", k_adj, \" R=\", \n",
    "                  r_expected, \"START_MEM=\", START_MEM)\n",
    "            print(\"Halting memory formation at \", len(memory_bank), \n",
    "                  \" memories due to more than \", STOP*100, \n",
    "                  \"percent total interference\")\n",
    "            print(\"Instantaneous interference rate: \", inst_inters/H)\n",
    "            print(\"Average interference rate: \", total_inters/len(memory_bank))\n",
    "            break"
   ]
  }
 ],
 "metadata": {
  "kernelspec": {
   "display_name": "Python 3 (ipykernel)",
   "language": "python",
   "name": "python3"
  },
  "language_info": {
   "codemirror_mode": {
    "name": "ipython",
    "version": 3
   },
   "file_extension": ".py",
   "mimetype": "text/x-python",
   "name": "python",
   "nbconvert_exporter": "python",
   "pygments_lexer": "ipython3",
   "version": "3.8.16"
  }
 },
 "nbformat": 4,
 "nbformat_minor": 5
}
