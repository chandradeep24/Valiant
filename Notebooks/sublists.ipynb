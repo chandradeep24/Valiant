{
 "cells": [
  {
   "cell_type": "code",
   "execution_count": 345,
   "metadata": {},
   "outputs": [
    {
     "name": "stdout",
     "output_type": "stream",
     "text": [
      "The autoreload extension is already loaded. To reload it, use:\n",
      "  %reload_ext autoreload\n"
     ]
    }
   ],
   "source": [
    "%load_ext autoreload\n",
    "%autoreload 2\n",
    "\n",
    "import sys\n",
    "sys.path.insert(0,'..')\n",
    "\n",
    "import numpy as np\n",
    "import math"
   ]
  },
  {
   "cell_type": "code",
   "execution_count": 347,
   "metadata": {},
   "outputs": [],
   "source": [
    "def add_subarray(A, r, sub=None):\n",
    "    indices = np.random.choice(len(A), size=r, replace=False)\n",
    "    if sub is None:\n",
    "        sub = np.zeros_like(A)\n",
    "        sub[indices] = 1\n",
    "        return sub\n",
    "    else:\n",
    "        new = np.zeros_like(A)\n",
    "        new[indices] = 1\n",
    "        return np.vstack((sub, new))\n",
    "\n",
    "\n",
    "def vectorized_intersections(sub, t):\n",
    "    out = sub @ sub.T\n",
    "    if not isinstance(out,(np.ndarray)):\n",
    "        self_inters = 1\n",
    "    else:\n",
    "        self_inters = out.shape[0]\n",
    "    return (np.sum(out >= t) - self_inters)"
   ]
  },
  {
   "cell_type": "code",
   "execution_count": 360,
   "metadata": {},
   "outputs": [],
   "source": [
    "#INPUT PARAMS-------------------------\n",
    "n = 200\n",
    "r = 61\n",
    "k = 2\n",
    "T = 0.1\n",
    "#-------------------------------------\n",
    "\n",
    "t = math.ceil(r / k)"
   ]
  },
  {
   "cell_type": "code",
   "execution_count": 361,
   "metadata": {},
   "outputs": [
    {
     "data": {
      "text/plain": [
       "2081"
      ]
     },
     "execution_count": 361,
     "metadata": {},
     "output_type": "execute_result"
    }
   ],
   "source": [
    "#Analytical Solution\n",
    "sum = 0\n",
    "for i in range(t,r+1):\n",
    "    sum += (math.comb(r,i) * math.comb(n-r,r-i))/math.comb(n,r)\n",
    "     \n",
    "math.floor(T/sum + 1)"
   ]
  },
  {
   "cell_type": "code",
   "execution_count": 362,
   "metadata": {},
   "outputs": [
    {
     "data": {
      "text/plain": [
       "(2082.9, 202.88319299537852)"
      ]
     },
     "execution_count": 362,
     "metadata": {},
     "output_type": "execute_result"
    }
   ],
   "source": [
    "#Simulation\n",
    "A = np.arange(1,n+1, dtype=np.float32)\n",
    "\n",
    "#Simulation Parameters----------\n",
    "H = 20 #Set lower for higher accuracy at the cost of higher runtime\n",
    "#-------------------------------\n",
    "\n",
    "results = []\n",
    "for _ in range(200):\n",
    "    inter = 0\n",
    "    sub = None\n",
    "    while True:\n",
    "        sub = add_subarray(A, r, sub)\n",
    "        if sub.shape[0] % H == 0:\n",
    "            inter = vectorized_intersections(sub, t)\n",
    "            #print(\"Expected intersections per sublist: \", inter/sub.shape[0])\n",
    "            if inter/sub.shape[0] >= T:\n",
    "                # print(str(r)+\"-sublist capacity of \"+str(n)+\": \"+str(sub.shape[0]-H))\n",
    "                results.append(sub.shape[0])\n",
    "                break\n",
    "\n",
    "np.mean(results), np.std(results)"
   ]
  }
 ],
 "metadata": {
  "kernelspec": {
   "display_name": "Python 3",
   "language": "python",
   "name": "python3"
  },
  "language_info": {
   "codemirror_mode": {
    "name": "ipython",
    "version": 3
   },
   "file_extension": ".py",
   "mimetype": "text/x-python",
   "name": "python",
   "nbconvert_exporter": "python",
   "pygments_lexer": "ipython3",
   "version": "3.9.17"
  },
  "orig_nbformat": 4
 },
 "nbformat": 4,
 "nbformat_minor": 2
}
