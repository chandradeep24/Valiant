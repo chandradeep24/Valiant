{
 "cells": [
  {
   "cell_type": "code",
   "execution_count": 6,
   "metadata": {},
   "outputs": [
    {
     "name": "stdout",
     "output_type": "stream",
     "text": [
      "The autoreload extension is already loaded. To reload it, use:\n",
      "  %reload_ext autoreload\n"
     ]
    }
   ],
   "source": [
    "%load_ext autoreload\n",
    "%autoreload 2\n",
    "\n",
    "import sys\n",
    "sys.path.insert(0,'..')\n",
    "\n",
    "import numpy as np\n",
    "import multiprocessing\n",
    "from src.Sublists.overlap_worker import process_worker"
   ]
  },
  {
   "cell_type": "code",
   "execution_count": 10,
   "metadata": {},
   "outputs": [],
   "source": [
    "def add_subarray(A, r, sub=None):\n",
    "    if sub is None:\n",
    "        return np.random.choice(A, size=r, replace=False)\n",
    "    else:\n",
    "        return np.vstack((sub, np.random.choice(A, size=r, replace=False)))\n",
    "\n",
    "\n",
    "def mp_intersections(sub, processes=4):\n",
    "    num_rows = sub.shape[0]\n",
    "    total_overlaps = 0\n",
    "    result_queue = multiprocessing.Queue()\n",
    "\n",
    "    chunk_size = num_rows // processes\n",
    "\n",
    "    jobs = []\n",
    "    for i in range(0, num_rows, chunk_size):\n",
    "        j = min(i + chunk_size, num_rows)\n",
    "        p = multiprocessing.Process(target=process_worker, args=(sub, i, j, result_queue))\n",
    "        jobs.append(p)\n",
    "        p.start()\n",
    "\n",
    "    for p in jobs:\n",
    "        p.join()\n",
    "\n",
    "    while not result_queue.empty():\n",
    "        total_overlaps += result_queue.get()\n",
    "\n",
    "    return total_overlaps"
   ]
  },
  {
   "cell_type": "code",
   "execution_count": 11,
   "metadata": {},
   "outputs": [
    {
     "name": "stdout",
     "output_type": "stream",
     "text": [
      "Mean Intersection Rate:  0.022\n",
      "Mean Intersection Rate:  0.043\n",
      "Mean Intersection Rate:  0.059333333333333335\n",
      "Mean Intersection Rate:  0.0845\n",
      "Mean Intersection Rate:  0.1052\n",
      "20-sublist capacity of 100: 2500\n"
     ]
    }
   ],
   "source": [
    "n = 100\n",
    "r = 20\n",
    "STOP = 0.1\n",
    "A = np.arange(1,n+1)\n",
    "ipairs = []\n",
    "inter = 0\n",
    "H = 500\n",
    "sub = None\n",
    "processes = 8\n",
    "\n",
    "while True:\n",
    "    sub = add_subarray(A, r, sub)\n",
    "    if sub.shape[0] % H == 0:\n",
    "        inter = mp_intersections(sub, processes)\n",
    "        print(\"Mean Intersection Rate: \", inter/sub.shape[0])\n",
    "        if inter/sub.shape[0] > STOP:\n",
    "            print(str(r)+\"-sublist capacity of \"+str(n)+\": \"+str(sub.shape[0]))\n",
    "            break"
   ]
  },
  {
   "cell_type": "code",
   "execution_count": null,
   "metadata": {},
   "outputs": [],
   "source": []
  }
 ],
 "metadata": {
  "kernelspec": {
   "display_name": "Python 3",
   "language": "python",
   "name": "python3"
  },
  "language_info": {
   "codemirror_mode": {
    "name": "ipython",
    "version": 3
   },
   "file_extension": ".py",
   "mimetype": "text/x-python",
   "name": "python",
   "nbconvert_exporter": "python",
   "pygments_lexer": "ipython3",
   "version": "3.9.17"
  },
  "orig_nbformat": 4
 },
 "nbformat": 4,
 "nbformat_minor": 2
}
