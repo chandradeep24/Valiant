{
 "cells": [
  {
   "cell_type": "code",
   "execution_count": 18,
   "metadata": {},
   "outputs": [
    {
     "name": "stdout",
     "output_type": "stream",
     "text": [
      "The autoreload extension is already loaded. To reload it, use:\n",
      "  %reload_ext autoreload\n"
     ]
    }
   ],
   "source": [
    "%load_ext autoreload\n",
    "%autoreload 2\n",
    "\n",
    "import sys\n",
    "sys.path.insert(0,'..')\n",
    "\n",
    "import numpy as np"
   ]
  },
  {
   "cell_type": "code",
   "execution_count": 45,
   "metadata": {},
   "outputs": [],
   "source": [
    "def add_subarray(A, r, sub=None):\n",
    "    indices = np.random.choice(len(A), size=r, replace=False)\n",
    "    if sub is None:\n",
    "        sub = np.zeros_like(A)\n",
    "        sub[indices] = 1\n",
    "        return sub\n",
    "    else:\n",
    "        new = np.zeros_like(A)\n",
    "        new[indices] = 1\n",
    "        return np.vstack((sub, new))\n",
    "\n",
    "\n",
    "def vectorized_intersections(sub, T):\n",
    "    out = sub @ sub.T\n",
    "    return (np.sum(out > T) - out.shape[0])//2\n"
   ]
  },
  {
   "cell_type": "code",
   "execution_count": 51,
   "metadata": {},
   "outputs": [
    {
     "name": "stdout",
     "output_type": "stream",
     "text": [
      "Mean Intersection Rate:  0.0\n",
      "Mean Intersection Rate:  0.03333333333333333\n",
      "Mean Intersection Rate:  0.057777777777777775\n",
      "Mean Intersection Rate:  0.06333333333333334\n",
      "Mean Intersection Rate:  0.072\n",
      "Mean Intersection Rate:  0.09555555555555556\n",
      "Mean Intersection Rate:  0.10285714285714286\n",
      "20-sublist capacity of 100: 1050\n"
     ]
    }
   ],
   "source": [
    "n = 100\n",
    "r = 20\n",
    "T = r/2\n",
    "STOP = 0.1\n",
    "A = np.arange(1,n+1)\n",
    "inter = 0\n",
    "H = 500 #Dont use the same number as n\n",
    "sub = None\n",
    "\n",
    "while True:\n",
    "    sub = add_subarray(A, r, sub)\n",
    "    if sub.shape[0] % H == 0:\n",
    "        inter = vectorized_intersections(sub, T)\n",
    "        print(\"Mean Intersection Rate: \", inter/sub.shape[0])\n",
    "        if inter/sub.shape[0] > STOP:\n",
    "            print(str(r)+\"-sublist capacity of \"+str(n)+\": \"+str(sub.shape[0]))\n",
    "            break"
   ]
  },
  {
   "cell_type": "code",
   "execution_count": null,
   "metadata": {},
   "outputs": [],
   "source": []
  }
 ],
 "metadata": {
  "kernelspec": {
   "display_name": "Python 3",
   "language": "python",
   "name": "python3"
  },
  "language_info": {
   "codemirror_mode": {
    "name": "ipython",
    "version": 3
   },
   "file_extension": ".py",
   "mimetype": "text/x-python",
   "name": "python",
   "nbconvert_exporter": "python",
   "pygments_lexer": "ipython3",
   "version": "3.9.17"
  },
  "orig_nbformat": 4
 },
 "nbformat": 4,
 "nbformat_minor": 2
}
